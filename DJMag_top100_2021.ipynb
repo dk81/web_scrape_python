{
 "cells": [
  {
   "cell_type": "markdown",
   "metadata": {},
   "source": [
    "## Web Scraping Of DJ Magazine Top 100 DJs 2021\n",
    "\n",
    "In this web scraping project, I extract the top 100 disk jockeys (DJs) according to DJ Magazine in 2021.\n",
    "\n",
    "I extract the DJ/Artist Names, their tanks, rank movements and their interview URL links"
   ]
  },
  {
   "cell_type": "code",
   "execution_count": 1,
   "metadata": {},
   "outputs": [],
   "source": [
    "# Imports\n",
    "\n",
    "from bs4 import BeautifulSoup\n",
    "import requests\n",
    "import pandas as pd"
   ]
  },
  {
   "cell_type": "code",
   "execution_count": 2,
   "metadata": {},
   "outputs": [],
   "source": [
    "# URL for searching Android tablets on Newegg.ca\n",
    "url = \"https://djmag.com/top100djs/\"\n",
    "\n",
    "# Get Request\n",
    "response = requests.get(url)"
   ]
  },
  {
   "cell_type": "code",
   "execution_count": 3,
   "metadata": {},
   "outputs": [],
   "source": [
    "# Get the soup\n",
    "soup = BeautifulSoup(response.content, 'html.parser')"
   ]
  },
  {
   "cell_type": "markdown",
   "metadata": {},
   "source": [
    "## Extract Data\n",
    "\n",
    "Ranks do not have to be extracted, they can be added in. Names, rank movements and interview URLs are extracted.\n",
    "\n",
    "I use list comprehension to extract the data and put into lists. The lists are then used for creating dataframes."
   ]
  },
  {
   "cell_type": "code",
   "execution_count": 4,
   "metadata": {},
   "outputs": [],
   "source": [
    "# DJ Names are in div tags with class top100dj-name then get a tag and text.\n",
    "\n",
    "dj_names = [x.find('a').get_text().strip() for x in soup.find_all('div', {'class': 'top100dj-name'})]"
   ]
  },
  {
   "cell_type": "code",
   "execution_count": 5,
   "metadata": {},
   "outputs": [],
   "source": [
    "# Rank Movements:\n",
    "\n",
    "rank_movements = [x.get_text().strip() for x in soup.find_all('div', {'class': 'top100dj-movement'})]"
   ]
  },
  {
   "cell_type": "code",
   "execution_count": 6,
   "metadata": {},
   "outputs": [],
   "source": [
    "# Interview URLs, adding https://djmag.com/top100djs/\n",
    "\n",
    "interview_urls = [\"https://djmag.com/top100djs/\" + x.find('a')['href'] \n",
    "                  for x in soup.find_all('div', {'class': 'top100dj-name'})]"
   ]
  },
  {
   "cell_type": "markdown",
   "metadata": {},
   "source": [
    "## Create Dataframe"
   ]
  },
  {
   "cell_type": "code",
   "execution_count": 7,
   "metadata": {},
   "outputs": [],
   "source": [
    "# Create dataframe:\n",
    "DJMag_top100_2021_df = pd.DataFrame({\n",
    "                           'Rank': range(1, 101),\n",
    "                           'DJ Name': dj_names,\n",
    "                           'Rank Change': rank_movements,\n",
    "                           'Interview URL': interview_urls\n",
    "})"
   ]
  },
  {
   "cell_type": "code",
   "execution_count": 8,
   "metadata": {},
   "outputs": [
    {
     "data": {
      "text/html": [
       "<div>\n",
       "<style scoped>\n",
       "    .dataframe tbody tr th:only-of-type {\n",
       "        vertical-align: middle;\n",
       "    }\n",
       "\n",
       "    .dataframe tbody tr th {\n",
       "        vertical-align: top;\n",
       "    }\n",
       "\n",
       "    .dataframe thead th {\n",
       "        text-align: right;\n",
       "    }\n",
       "</style>\n",
       "<table border=\"1\" class=\"dataframe\">\n",
       "  <thead>\n",
       "    <tr style=\"text-align: right;\">\n",
       "      <th></th>\n",
       "      <th>Rank</th>\n",
       "      <th>DJ Name</th>\n",
       "      <th>Rank Change</th>\n",
       "      <th>Interview URL</th>\n",
       "    </tr>\n",
       "  </thead>\n",
       "  <tbody>\n",
       "    <tr>\n",
       "      <th>0</th>\n",
       "      <td>1</td>\n",
       "      <td>David Guetta</td>\n",
       "      <td>Non Mover</td>\n",
       "      <td>https://djmag.com/top100djs//top-100-djs/poll-...</td>\n",
       "    </tr>\n",
       "    <tr>\n",
       "      <th>1</th>\n",
       "      <td>2</td>\n",
       "      <td>Martin Garrix</td>\n",
       "      <td>Up 1</td>\n",
       "      <td>https://djmag.com/top100djs//top-100-djs/poll-...</td>\n",
       "    </tr>\n",
       "    <tr>\n",
       "      <th>2</th>\n",
       "      <td>3</td>\n",
       "      <td>Armin Van Buuren</td>\n",
       "      <td>Up 1</td>\n",
       "      <td>https://djmag.com/top100djs//top-100-djs/poll-...</td>\n",
       "    </tr>\n",
       "    <tr>\n",
       "      <th>3</th>\n",
       "      <td>4</td>\n",
       "      <td>Alok</td>\n",
       "      <td>Up 1</td>\n",
       "      <td>https://djmag.com/top100djs//top-100-djs/poll-...</td>\n",
       "    </tr>\n",
       "    <tr>\n",
       "      <th>4</th>\n",
       "      <td>5</td>\n",
       "      <td>Dimitri Vegas &amp; Like Mike</td>\n",
       "      <td>Down 3</td>\n",
       "      <td>https://djmag.com/top100djs//top-100-djs/poll-...</td>\n",
       "    </tr>\n",
       "    <tr>\n",
       "      <th>5</th>\n",
       "      <td>6</td>\n",
       "      <td>Afrojack</td>\n",
       "      <td>Up 1</td>\n",
       "      <td>https://djmag.com/top100djs//top-100-djs/poll-...</td>\n",
       "    </tr>\n",
       "    <tr>\n",
       "      <th>6</th>\n",
       "      <td>7</td>\n",
       "      <td>Don Diablo</td>\n",
       "      <td>Down 1</td>\n",
       "      <td>https://djmag.com/top100djs//top-100-djs/poll-...</td>\n",
       "    </tr>\n",
       "    <tr>\n",
       "      <th>7</th>\n",
       "      <td>8</td>\n",
       "      <td>Oliver Heldens</td>\n",
       "      <td>Stay 8</td>\n",
       "      <td>https://djmag.com/top100djs//top-100-djs/poll-...</td>\n",
       "    </tr>\n",
       "    <tr>\n",
       "      <th>8</th>\n",
       "      <td>9</td>\n",
       "      <td>Timmy Trumpet</td>\n",
       "      <td>Up 1</td>\n",
       "      <td>https://djmag.com/top100djs//top-100-djs/poll-...</td>\n",
       "    </tr>\n",
       "    <tr>\n",
       "      <th>9</th>\n",
       "      <td>10</td>\n",
       "      <td>Steve Aoki</td>\n",
       "      <td>Down 1</td>\n",
       "      <td>https://djmag.com/top100djs//top-100-djs/poll-...</td>\n",
       "    </tr>\n",
       "  </tbody>\n",
       "</table>\n",
       "</div>"
      ],
      "text/plain": [
       "   Rank                    DJ Name Rank Change  \\\n",
       "0     1               David Guetta   Non Mover   \n",
       "1     2              Martin Garrix        Up 1   \n",
       "2     3           Armin Van Buuren        Up 1   \n",
       "3     4                       Alok        Up 1   \n",
       "4     5  Dimitri Vegas & Like Mike      Down 3   \n",
       "5     6                   Afrojack        Up 1   \n",
       "6     7                 Don Diablo      Down 1   \n",
       "7     8             Oliver Heldens      Stay 8   \n",
       "8     9              Timmy Trumpet        Up 1   \n",
       "9    10                 Steve Aoki      Down 1   \n",
       "\n",
       "                                       Interview URL  \n",
       "0  https://djmag.com/top100djs//top-100-djs/poll-...  \n",
       "1  https://djmag.com/top100djs//top-100-djs/poll-...  \n",
       "2  https://djmag.com/top100djs//top-100-djs/poll-...  \n",
       "3  https://djmag.com/top100djs//top-100-djs/poll-...  \n",
       "4  https://djmag.com/top100djs//top-100-djs/poll-...  \n",
       "5  https://djmag.com/top100djs//top-100-djs/poll-...  \n",
       "6  https://djmag.com/top100djs//top-100-djs/poll-...  \n",
       "7  https://djmag.com/top100djs//top-100-djs/poll-...  \n",
       "8  https://djmag.com/top100djs//top-100-djs/poll-...  \n",
       "9  https://djmag.com/top100djs//top-100-djs/poll-...  "
      ]
     },
     "execution_count": 8,
     "metadata": {},
     "output_type": "execute_result"
    }
   ],
   "source": [
    "DJMag_top100_2021_df.head(10)"
   ]
  },
  {
   "cell_type": "code",
   "execution_count": 9,
   "metadata": {},
   "outputs": [],
   "source": [
    "# Save as .csv file:\n",
    "DJMag_top100_2021_df.to_csv(\"DJMag_Top100_2021.csv\")"
   ]
  },
  {
   "cell_type": "code",
   "execution_count": null,
   "metadata": {},
   "outputs": [],
   "source": []
  }
 ],
 "metadata": {
  "kernelspec": {
   "display_name": "Python 3",
   "language": "python",
   "name": "python3"
  },
  "language_info": {
   "codemirror_mode": {
    "name": "ipython",
    "version": 3
   },
   "file_extension": ".py",
   "mimetype": "text/x-python",
   "name": "python",
   "nbconvert_exporter": "python",
   "pygments_lexer": "ipython3",
   "version": "3.8.3"
  }
 },
 "nbformat": 4,
 "nbformat_minor": 4
}
