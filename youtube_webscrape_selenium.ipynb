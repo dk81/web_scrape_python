{
 "cells": [
  {
   "cell_type": "code",
   "execution_count": 20,
   "metadata": {},
   "outputs": [],
   "source": [
    "# Imports\n",
    "# Reference: https://www.youtube.com/watch?v=lTypMlVBFM4\n",
    "\n",
    "from selenium import webdriver\n",
    "import pandas as pd\n",
    "from datetime import date\n",
    "import time"
   ]
  },
  {
   "cell_type": "markdown",
   "metadata": {},
   "source": [
    "## Web Scrape Food Ranger Youtube Channel"
   ]
  },
  {
   "cell_type": "markdown",
   "metadata": {},
   "source": [
    "From Food Ranger Youtube Channel, obtain:\n",
    "\n",
    "* Video Title\n",
    "* Length of Video\n",
    "* View_Counts\n",
    "* When"
   ]
  },
  {
   "cell_type": "code",
   "execution_count": 37,
   "metadata": {},
   "outputs": [],
   "source": [
    "# Food Ranger Channel:\n",
    "url = 'https://www.youtube.com/c/thefoodranger/videos'"
   ]
  },
  {
   "cell_type": "code",
   "execution_count": 38,
   "metadata": {},
   "outputs": [],
   "source": [
    "driver = webdriver.Chrome()\n",
    "driver.get(url)"
   ]
  },
  {
   "cell_type": "code",
   "execution_count": 39,
   "metadata": {},
   "outputs": [],
   "source": [
    "from selenium.webdriver.common.keys import Keys\n",
    "\n",
    "# Scroll down on page\n",
    "# Reference: https://stackoverflow.com/questions/20986631/how-can-i-scroll-a-web-page-using-selenium-webdriver-in-python\n",
    "html = driver.find_element_by_tag_name('html')\n",
    "\n",
    "# Do 10 page downs\n",
    "for i in range(11):\n",
    "    html.send_keys(Keys.PAGE_DOWN)\n",
    "    time.sleep(0.25)"
   ]
  },
  {
   "cell_type": "code",
   "execution_count": 40,
   "metadata": {},
   "outputs": [],
   "source": [
    "videos = driver.find_elements_by_class_name('style-scope ytd-grid-video-renderer')"
   ]
  },
  {
   "cell_type": "code",
   "execution_count": 41,
   "metadata": {},
   "outputs": [],
   "source": [
    "# Video titles:\n",
    "# Reference: https://stackoverflow.com/questions/20244691/python-selenium-how-do-i-find-all-element-ids-on-a-page/20245620\n",
    "\n",
    "titles = [video.find_element_by_xpath('.//*[@id=\"video-title\"]').text for video in videos]"
   ]
  },
  {
   "cell_type": "code",
   "execution_count": 42,
   "metadata": {},
   "outputs": [],
   "source": [
    "# Video Length:\n",
    "video_length = [x.find_element_by_class_name(\"style-scope ytd-thumbnail-overlay-time-status-renderer\").text for x in videos]"
   ]
  },
  {
   "cell_type": "code",
   "execution_count": 43,
   "metadata": {},
   "outputs": [],
   "source": [
    "# View Counts\n",
    "\n",
    "views = [video.find_element_by_xpath('.//*[@id=\"metadata-line\"]/span[1]').text for video in videos]"
   ]
  },
  {
   "cell_type": "code",
   "execution_count": 44,
   "metadata": {},
   "outputs": [],
   "source": [
    "# When/Date:\n",
    "when = [video.find_element_by_xpath('.//*[@id=\"metadata-line\"]/span[2]').text for video in videos]"
   ]
  },
  {
   "cell_type": "code",
   "execution_count": 45,
   "metadata": {},
   "outputs": [],
   "source": [
    "## Create Dataframe:\n",
    "food_ranger_df = pd.DataFrame({'Title': titles, \n",
    "                               'Video Length': video_length,\n",
    "                               'View_Counts': views, \n",
    "                               'When': when})"
   ]
  },
  {
   "cell_type": "code",
   "execution_count": 47,
   "metadata": {},
   "outputs": [
    {
     "data": {
      "text/html": [
       "<div>\n",
       "<style scoped>\n",
       "    .dataframe tbody tr th:only-of-type {\n",
       "        vertical-align: middle;\n",
       "    }\n",
       "\n",
       "    .dataframe tbody tr th {\n",
       "        vertical-align: top;\n",
       "    }\n",
       "\n",
       "    .dataframe thead th {\n",
       "        text-align: right;\n",
       "    }\n",
       "</style>\n",
       "<table border=\"1\" class=\"dataframe\">\n",
       "  <thead>\n",
       "    <tr style=\"text-align: right;\">\n",
       "      <th></th>\n",
       "      <th>Title</th>\n",
       "      <th>Video Length</th>\n",
       "      <th>View_Counts</th>\n",
       "      <th>When</th>\n",
       "    </tr>\n",
       "  </thead>\n",
       "  <tbody>\n",
       "    <tr>\n",
       "      <th>0</th>\n",
       "      <td>GOING FULL ON For Street Food in Turkey - 8 St...</td>\n",
       "      <td>32:16</td>\n",
       "      <td>283K views</td>\n",
       "      <td>11 days ago</td>\n",
       "    </tr>\n",
       "    <tr>\n",
       "      <th>1</th>\n",
       "      <td>DEEPEST Street Food Tour of Turkey - 21 UNIQUE...</td>\n",
       "      <td>20:33</td>\n",
       "      <td>307K views</td>\n",
       "      <td>3 weeks ago</td>\n",
       "    </tr>\n",
       "    <tr>\n",
       "      <th>2</th>\n",
       "      <td>DEEPEST Street Food Tour of Turkey - 5 UNIQUE ...</td>\n",
       "      <td>18:09</td>\n",
       "      <td>1.1M views</td>\n",
       "      <td>1 month ago</td>\n",
       "    </tr>\n",
       "    <tr>\n",
       "      <th>3</th>\n",
       "      <td>The ULTIMATE Iranian Street Food Tour ofDubai ...</td>\n",
       "      <td>44:31</td>\n",
       "      <td>846K views</td>\n",
       "      <td>1 month ago</td>\n",
       "    </tr>\n",
       "    <tr>\n",
       "      <th>4</th>\n",
       "      <td>LEVEL 9999 Indian Street Food - Kerala Beef Fr...</td>\n",
       "      <td>13:02</td>\n",
       "      <td>303K views</td>\n",
       "      <td>1 month ago</td>\n",
       "    </tr>\n",
       "    <tr>\n",
       "      <th>5</th>\n",
       "      <td>The ULTIMATE 16 Hour Pakistani Street Food Tou...</td>\n",
       "      <td>20:56</td>\n",
       "      <td>993K views</td>\n",
       "      <td>2 months ago</td>\n",
       "    </tr>\n",
       "    <tr>\n",
       "      <th>6</th>\n",
       "      <td>EXTREME Street Food Tour out of Dubai, UAE (Sh...</td>\n",
       "      <td>25:28</td>\n",
       "      <td>523K views</td>\n",
       "      <td>3 months ago</td>\n",
       "    </tr>\n",
       "    <tr>\n",
       "      <th>7</th>\n",
       "      <td>LEVEL 9999 EMIRATI SEAFOOD PLATTER in Dubai w/...</td>\n",
       "      <td>16:09</td>\n",
       "      <td>497K views</td>\n",
       "      <td>3 months ago</td>\n",
       "    </tr>\n",
       "    <tr>\n",
       "      <th>8</th>\n",
       "      <td>INSANE Street Food in Turkey - KEBAB NINJA + G...</td>\n",
       "      <td>17:06</td>\n",
       "      <td>523K views</td>\n",
       "      <td>4 months ago</td>\n",
       "    </tr>\n",
       "    <tr>\n",
       "      <th>9</th>\n",
       "      <td>LEVEL 9999 Indian Food in Dubai - BEST Indian ...</td>\n",
       "      <td>13:32</td>\n",
       "      <td>464K views</td>\n",
       "      <td>4 months ago</td>\n",
       "    </tr>\n",
       "    <tr>\n",
       "      <th>10</th>\n",
       "      <td>Most UNIQUE Street Food in Turkey - Sirdan SUS...</td>\n",
       "      <td>22:28</td>\n",
       "      <td>1.3M views</td>\n",
       "      <td>4 months ago</td>\n",
       "    </tr>\n",
       "    <tr>\n",
       "      <th>11</th>\n",
       "      <td>EXTREME Food in Dubai - FULL Madfoun Platter M...</td>\n",
       "      <td>17:26</td>\n",
       "      <td>400K views</td>\n",
       "      <td>5 months ago</td>\n",
       "    </tr>\n",
       "  </tbody>\n",
       "</table>\n",
       "</div>"
      ],
      "text/plain": [
       "                                                Title Video Length  \\\n",
       "0   GOING FULL ON For Street Food in Turkey - 8 St...        32:16   \n",
       "1   DEEPEST Street Food Tour of Turkey - 21 UNIQUE...        20:33   \n",
       "2   DEEPEST Street Food Tour of Turkey - 5 UNIQUE ...        18:09   \n",
       "3   The ULTIMATE Iranian Street Food Tour ofDubai ...        44:31   \n",
       "4   LEVEL 9999 Indian Street Food - Kerala Beef Fr...        13:02   \n",
       "5   The ULTIMATE 16 Hour Pakistani Street Food Tou...        20:56   \n",
       "6   EXTREME Street Food Tour out of Dubai, UAE (Sh...        25:28   \n",
       "7   LEVEL 9999 EMIRATI SEAFOOD PLATTER in Dubai w/...        16:09   \n",
       "8   INSANE Street Food in Turkey - KEBAB NINJA + G...        17:06   \n",
       "9   LEVEL 9999 Indian Food in Dubai - BEST Indian ...        13:32   \n",
       "10  Most UNIQUE Street Food in Turkey - Sirdan SUS...        22:28   \n",
       "11  EXTREME Food in Dubai - FULL Madfoun Platter M...        17:26   \n",
       "\n",
       "   View_Counts          When  \n",
       "0   283K views   11 days ago  \n",
       "1   307K views   3 weeks ago  \n",
       "2   1.1M views   1 month ago  \n",
       "3   846K views   1 month ago  \n",
       "4   303K views   1 month ago  \n",
       "5   993K views  2 months ago  \n",
       "6   523K views  3 months ago  \n",
       "7   497K views  3 months ago  \n",
       "8   523K views  4 months ago  \n",
       "9   464K views  4 months ago  \n",
       "10  1.3M views  4 months ago  \n",
       "11  400K views  5 months ago  "
      ]
     },
     "execution_count": 47,
     "metadata": {},
     "output_type": "execute_result"
    }
   ],
   "source": [
    "# Preview dataframe\n",
    "food_ranger_df"
   ]
  },
  {
   "cell_type": "code",
   "execution_count": null,
   "metadata": {},
   "outputs": [],
   "source": []
  }
 ],
 "metadata": {
  "kernelspec": {
   "display_name": "Python 3",
   "language": "python",
   "name": "python3"
  },
  "language_info": {
   "codemirror_mode": {
    "name": "ipython",
    "version": 3
   },
   "file_extension": ".py",
   "mimetype": "text/x-python",
   "name": "python",
   "nbconvert_exporter": "python",
   "pygments_lexer": "ipython3",
   "version": "3.8.3"
  }
 },
 "nbformat": 4,
 "nbformat_minor": 4
}
