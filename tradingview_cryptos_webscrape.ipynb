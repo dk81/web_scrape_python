{
 "cells": [
  {
   "cell_type": "code",
   "execution_count": 49,
   "metadata": {},
   "outputs": [],
   "source": [
    "# Imports\n",
    "\n",
    "from bs4 import BeautifulSoup\n",
    "import requests\n",
    "import pandas as pd"
   ]
  },
  {
   "cell_type": "code",
   "execution_count": 50,
   "metadata": {},
   "outputs": [
    {
     "data": {
      "text/plain": [
       "200"
      ]
     },
     "execution_count": 50,
     "metadata": {},
     "output_type": "execute_result"
    }
   ],
   "source": [
    "# Obtain URL and get request:\n",
    "\n",
    "url = \"https://www.tradingview.com/markets/cryptocurrencies/prices-all/\"\n",
    "\n",
    "response = requests.get(url)\n",
    "\n",
    "# Check Status code:\n",
    "\n",
    "response.status_code"
   ]
  },
  {
   "cell_type": "code",
   "execution_count": 51,
   "metadata": {},
   "outputs": [],
   "source": [
    "soup = BeautifulSoup(response.content, 'html.parser')"
   ]
  },
  {
   "cell_type": "code",
   "execution_count": 52,
   "metadata": {},
   "outputs": [],
   "source": [
    "results = soup.find('tbody', {'class': 'tv-data-table__tbody'}).find_all('tr')"
   ]
  },
  {
   "cell_type": "markdown",
   "metadata": {},
   "source": [
    "## Crypto Name"
   ]
  },
  {
   "cell_type": "code",
   "execution_count": 53,
   "metadata": {},
   "outputs": [],
   "source": [
    "# Crypto Names:\n",
    "cryptos = [result.find('a', {'class': 'tv-screener__symbol'}).get_text() for result in results]"
   ]
  },
  {
   "cell_type": "markdown",
   "metadata": {},
   "source": [
    "## Market Cap"
   ]
  },
  {
   "cell_type": "code",
   "execution_count": 54,
   "metadata": {},
   "outputs": [
    {
     "data": {
      "text/plain": [
       "'698.049B'"
      ]
     },
     "execution_count": 54,
     "metadata": {},
     "output_type": "execute_result"
    }
   ],
   "source": [
    "results[0].find_all('td')[1].get_text()"
   ]
  },
  {
   "cell_type": "code",
   "execution_count": 55,
   "metadata": {},
   "outputs": [],
   "source": [
    "# Market Cap:\n",
    "mcap = [result.find_all('td')[1].get_text() for result in results]"
   ]
  },
  {
   "cell_type": "markdown",
   "metadata": {},
   "source": [
    "## Fully Diluted Market Cap"
   ]
  },
  {
   "cell_type": "code",
   "execution_count": 56,
   "metadata": {},
   "outputs": [],
   "source": [
    "# Fully Diluted Market Cap:\n",
    "fd_mcap = [result.find_all('td')[2].get_text() for result in results]"
   ]
  },
  {
   "cell_type": "markdown",
   "metadata": {},
   "source": [
    "## Price"
   ]
  },
  {
   "cell_type": "code",
   "execution_count": 57,
   "metadata": {},
   "outputs": [],
   "source": [
    "# Price\n",
    "price = [result.find_all('td')[3].get_text() for result in results]"
   ]
  },
  {
   "cell_type": "markdown",
   "metadata": {},
   "source": [
    "## Available Coins"
   ]
  },
  {
   "cell_type": "code",
   "execution_count": 58,
   "metadata": {},
   "outputs": [],
   "source": [
    "# Available Coins\n",
    "avail_coins = [result.find_all('td')[4].get_text() for result in results]"
   ]
  },
  {
   "cell_type": "markdown",
   "metadata": {},
   "source": [
    "## Total Coins"
   ]
  },
  {
   "cell_type": "code",
   "execution_count": 59,
   "metadata": {},
   "outputs": [],
   "source": [
    "# Total Coins\n",
    "total_coins = [result.find_all('td')[5].get_text() for result in results]"
   ]
  },
  {
   "cell_type": "markdown",
   "metadata": {},
   "source": [
    "## Traded Volume"
   ]
  },
  {
   "cell_type": "code",
   "execution_count": 60,
   "metadata": {},
   "outputs": [],
   "source": [
    "# Traded Volume\n",
    "traded_vol = [result.find_all('td')[6].get_text() for result in results]"
   ]
  },
  {
   "cell_type": "markdown",
   "metadata": {},
   "source": [
    "## Change %"
   ]
  },
  {
   "cell_type": "code",
   "execution_count": 61,
   "metadata": {},
   "outputs": [],
   "source": [
    "# Change %\n",
    "change_pct = [result.find_all('td')[-1].get_text() for result in results]"
   ]
  },
  {
   "cell_type": "markdown",
   "metadata": {},
   "source": [
    "## Create Dataframe Of Raw Data"
   ]
  },
  {
   "cell_type": "code",
   "execution_count": 62,
   "metadata": {},
   "outputs": [],
   "source": [
    "# Top 100 Cryptos On Tradingview\n",
    "\n",
    "tview_crypto_df = pd.DataFrame({'Crypto': cryptos, 'Market Cap': mcap,\n",
    "                             'Fully Diluted MCap': fd_mcap, 'Price': price,\n",
    "                            'Avail Coins': avail_coins, 'Total Coins': total_coins,\n",
    "                            'Traded Volume': traded_vol, 'Change %': change_pct})"
   ]
  },
  {
   "cell_type": "code",
   "execution_count": 45,
   "metadata": {},
   "outputs": [
    {
     "data": {
      "text/html": [
       "<div>\n",
       "<style scoped>\n",
       "    .dataframe tbody tr th:only-of-type {\n",
       "        vertical-align: middle;\n",
       "    }\n",
       "\n",
       "    .dataframe tbody tr th {\n",
       "        vertical-align: top;\n",
       "    }\n",
       "\n",
       "    .dataframe thead th {\n",
       "        text-align: right;\n",
       "    }\n",
       "</style>\n",
       "<table border=\"1\" class=\"dataframe\">\n",
       "  <thead>\n",
       "    <tr style=\"text-align: right;\">\n",
       "      <th></th>\n",
       "      <th>Crypto</th>\n",
       "      <th>Market Cap</th>\n",
       "      <th>Diluted MCap</th>\n",
       "      <th>Price</th>\n",
       "      <th>Avail Coins</th>\n",
       "      <th>Total Coins</th>\n",
       "      <th>Traded Volume</th>\n",
       "      <th>Change %</th>\n",
       "    </tr>\n",
       "  </thead>\n",
       "  <tbody>\n",
       "    <tr>\n",
       "      <th>0</th>\n",
       "      <td>Bitcoin</td>\n",
       "      <td>698.053B</td>\n",
       "      <td>773.656B</td>\n",
       "      <td>36840.76</td>\n",
       "      <td>18.948M</td>\n",
       "      <td>21.000M</td>\n",
       "      <td>19.610B</td>\n",
       "      <td>-0.22%</td>\n",
       "    </tr>\n",
       "    <tr>\n",
       "      <th>1</th>\n",
       "      <td>Ethereum</td>\n",
       "      <td>314.341B</td>\n",
       "      <td>314.341B</td>\n",
       "      <td>2632.02</td>\n",
       "      <td>119.429M</td>\n",
       "      <td>119.429M</td>\n",
       "      <td>14.016B</td>\n",
       "      <td>-1.85%</td>\n",
       "    </tr>\n",
       "    <tr>\n",
       "      <th>2</th>\n",
       "      <td>Tether</td>\n",
       "      <td>78.006B</td>\n",
       "      <td>80.133B</td>\n",
       "      <td>1.00</td>\n",
       "      <td>77.950B</td>\n",
       "      <td>80.075B</td>\n",
       "      <td>44.958B</td>\n",
       "      <td>-0.02%</td>\n",
       "    </tr>\n",
       "    <tr>\n",
       "      <th>3</th>\n",
       "      <td>Binance Coin</td>\n",
       "      <td>60.466B</td>\n",
       "      <td>60.466B</td>\n",
       "      <td>366.20</td>\n",
       "      <td>165.117M</td>\n",
       "      <td>165.117M</td>\n",
       "      <td>1.232B</td>\n",
       "      <td>-0.35%</td>\n",
       "    </tr>\n",
       "    <tr>\n",
       "      <th>4</th>\n",
       "      <td>USD Coin</td>\n",
       "      <td>50.623B</td>\n",
       "      <td>50.623B</td>\n",
       "      <td>1.00</td>\n",
       "      <td>50.618B</td>\n",
       "      <td>50.618B</td>\n",
       "      <td>3.097B</td>\n",
       "      <td>0.02%</td>\n",
       "    </tr>\n",
       "    <tr>\n",
       "      <th>5</th>\n",
       "      <td>Cardano</td>\n",
       "      <td>35.393B</td>\n",
       "      <td>47.430B</td>\n",
       "      <td>1.05</td>\n",
       "      <td>33.579B</td>\n",
       "      <td>45.000B</td>\n",
       "      <td>888.406M</td>\n",
       "      <td>2.43%</td>\n",
       "    </tr>\n",
       "    <tr>\n",
       "      <th>6</th>\n",
       "      <td>HEX</td>\n",
       "      <td>32.892B</td>\n",
       "      <td>120.169B</td>\n",
       "      <td>0.19</td>\n",
       "      <td>173.411B</td>\n",
       "      <td>633.543B</td>\n",
       "      <td>15.751M</td>\n",
       "      <td>3.56%</td>\n",
       "    </tr>\n",
       "    <tr>\n",
       "      <th>7</th>\n",
       "      <td>Solana</td>\n",
       "      <td>30.859B</td>\n",
       "      <td>50.138B</td>\n",
       "      <td>98.00</td>\n",
       "      <td>314.884M</td>\n",
       "      <td>511.617M</td>\n",
       "      <td>3.527B</td>\n",
       "      <td>-3.99%</td>\n",
       "    </tr>\n",
       "    <tr>\n",
       "      <th>8</th>\n",
       "      <td>XRP</td>\n",
       "      <td>28.734B</td>\n",
       "      <td>60.192B</td>\n",
       "      <td>0.60</td>\n",
       "      <td>47.737B</td>\n",
       "      <td>100.000B</td>\n",
       "      <td>1.139B</td>\n",
       "      <td>0.10%</td>\n",
       "    </tr>\n",
       "    <tr>\n",
       "      <th>9</th>\n",
       "      <td>Terra</td>\n",
       "      <td>19.659B</td>\n",
       "      <td>40.140B</td>\n",
       "      <td>49.06</td>\n",
       "      <td>400.690M</td>\n",
       "      <td>818.143M</td>\n",
       "      <td>1.752B</td>\n",
       "      <td>3.03%</td>\n",
       "    </tr>\n",
       "    <tr>\n",
       "      <th>10</th>\n",
       "      <td>Polkadot</td>\n",
       "      <td>18.329B</td>\n",
       "      <td>20.477B</td>\n",
       "      <td>18.56</td>\n",
       "      <td>987.579M</td>\n",
       "      <td>1.103B</td>\n",
       "      <td>993.221M</td>\n",
       "      <td>-1.22%</td>\n",
       "    </tr>\n",
       "    <tr>\n",
       "      <th>11</th>\n",
       "      <td>Dogecoin</td>\n",
       "      <td>18.136B</td>\n",
       "      <td>18.136B</td>\n",
       "      <td>0.14</td>\n",
       "      <td>132.671B</td>\n",
       "      <td>132.671B</td>\n",
       "      <td>428.622M</td>\n",
       "      <td>-0.51%</td>\n",
       "    </tr>\n",
       "  </tbody>\n",
       "</table>\n",
       "</div>"
      ],
      "text/plain": [
       "          Crypto Market Cap Diluted MCap     Price Avail Coins Total Coins  \\\n",
       "0        Bitcoin   698.053B     773.656B  36840.76     18.948M     21.000M   \n",
       "1       Ethereum   314.341B     314.341B   2632.02    119.429M    119.429M   \n",
       "2         Tether    78.006B      80.133B      1.00     77.950B     80.075B   \n",
       "3   Binance Coin    60.466B      60.466B    366.20    165.117M    165.117M   \n",
       "4       USD Coin    50.623B      50.623B      1.00     50.618B     50.618B   \n",
       "5        Cardano    35.393B      47.430B      1.05     33.579B     45.000B   \n",
       "6            HEX    32.892B     120.169B      0.19    173.411B    633.543B   \n",
       "7         Solana    30.859B      50.138B     98.00    314.884M    511.617M   \n",
       "8            XRP    28.734B      60.192B      0.60     47.737B    100.000B   \n",
       "9          Terra    19.659B      40.140B     49.06    400.690M    818.143M   \n",
       "10      Polkadot    18.329B      20.477B     18.56    987.579M      1.103B   \n",
       "11      Dogecoin    18.136B      18.136B      0.14    132.671B    132.671B   \n",
       "\n",
       "   Traded Volume Change %  \n",
       "0        19.610B   -0.22%  \n",
       "1        14.016B   -1.85%  \n",
       "2        44.958B   -0.02%  \n",
       "3         1.232B   -0.35%  \n",
       "4         3.097B    0.02%  \n",
       "5       888.406M    2.43%  \n",
       "6        15.751M    3.56%  \n",
       "7         3.527B   -3.99%  \n",
       "8         1.139B    0.10%  \n",
       "9         1.752B    3.03%  \n",
       "10      993.221M   -1.22%  \n",
       "11      428.622M   -0.51%  "
      ]
     },
     "execution_count": 45,
     "metadata": {},
     "output_type": "execute_result"
    }
   ],
   "source": [
    "tview_crypto_df.head(12)"
   ]
  },
  {
   "cell_type": "code",
   "execution_count": 48,
   "metadata": {},
   "outputs": [
    {
     "data": {
      "text/html": [
       "<div>\n",
       "<style scoped>\n",
       "    .dataframe tbody tr th:only-of-type {\n",
       "        vertical-align: middle;\n",
       "    }\n",
       "\n",
       "    .dataframe tbody tr th {\n",
       "        vertical-align: top;\n",
       "    }\n",
       "\n",
       "    .dataframe thead th {\n",
       "        text-align: right;\n",
       "    }\n",
       "</style>\n",
       "<table border=\"1\" class=\"dataframe\">\n",
       "  <thead>\n",
       "    <tr style=\"text-align: right;\">\n",
       "      <th></th>\n",
       "      <th>Crypto</th>\n",
       "      <th>Market Cap</th>\n",
       "      <th>Diluted MCap</th>\n",
       "      <th>Price</th>\n",
       "      <th>Avail Coins</th>\n",
       "      <th>Total Coins</th>\n",
       "      <th>Traded Volume</th>\n",
       "      <th>Change %</th>\n",
       "    </tr>\n",
       "  </thead>\n",
       "  <tbody>\n",
       "    <tr>\n",
       "      <th>145</th>\n",
       "      <td>UMA</td>\n",
       "      <td>367.528M</td>\n",
       "      <td>570.218M</td>\n",
       "      <td>5.64</td>\n",
       "      <td>65.210M</td>\n",
       "      <td>101.173M</td>\n",
       "      <td>21.306M</td>\n",
       "      <td>2.96%</td>\n",
       "    </tr>\n",
       "    <tr>\n",
       "      <th>146</th>\n",
       "      <td>Ethereum Name Service</td>\n",
       "      <td>362.688M</td>\n",
       "      <td>1.792B</td>\n",
       "      <td>17.92</td>\n",
       "      <td>20.245M</td>\n",
       "      <td>100.000M</td>\n",
       "      <td>43.828M</td>\n",
       "      <td>-0.31%</td>\n",
       "    </tr>\n",
       "    <tr>\n",
       "      <th>147</th>\n",
       "      <td>Kyber Network</td>\n",
       "      <td>360.721M</td>\n",
       "      <td>360.721M</td>\n",
       "      <td>2.03</td>\n",
       "      <td>177.809M</td>\n",
       "      <td>177.809M</td>\n",
       "      <td>90.117M</td>\n",
       "      <td>8.92%</td>\n",
       "    </tr>\n",
       "    <tr>\n",
       "      <th>148</th>\n",
       "      <td>PAX Gold</td>\n",
       "      <td>356.062M</td>\n",
       "      <td>356.062M</td>\n",
       "      <td>1810.17</td>\n",
       "      <td>196.700K</td>\n",
       "      <td>196.700K</td>\n",
       "      <td>9.741M</td>\n",
       "      <td>-0.02%</td>\n",
       "    </tr>\n",
       "    <tr>\n",
       "      <th>149</th>\n",
       "      <td>SKALE Network</td>\n",
       "      <td>353.761M</td>\n",
       "      <td>769.949M</td>\n",
       "      <td>0.11</td>\n",
       "      <td>3.216B</td>\n",
       "      <td>7.000B</td>\n",
       "      <td>10.372M</td>\n",
       "      <td>0.59%</td>\n",
       "    </tr>\n",
       "  </tbody>\n",
       "</table>\n",
       "</div>"
      ],
      "text/plain": [
       "                    Crypto Market Cap Diluted MCap    Price Avail Coins  \\\n",
       "145                    UMA   367.528M     570.218M     5.64     65.210M   \n",
       "146  Ethereum Name Service   362.688M       1.792B    17.92     20.245M   \n",
       "147          Kyber Network   360.721M     360.721M     2.03    177.809M   \n",
       "148               PAX Gold   356.062M     356.062M  1810.17    196.700K   \n",
       "149          SKALE Network   353.761M     769.949M     0.11      3.216B   \n",
       "\n",
       "    Total Coins Traded Volume Change %  \n",
       "145    101.173M       21.306M    2.96%  \n",
       "146    100.000M       43.828M   -0.31%  \n",
       "147    177.809M       90.117M    8.92%  \n",
       "148    196.700K        9.741M   -0.02%  \n",
       "149      7.000B       10.372M    0.59%  "
      ]
     },
     "execution_count": 48,
     "metadata": {},
     "output_type": "execute_result"
    }
   ],
   "source": [
    "tview_crypto_df.tail()"
   ]
  },
  {
   "cell_type": "markdown",
   "metadata": {},
   "source": [
    "## Write To Excel File"
   ]
  },
  {
   "cell_type": "code",
   "execution_count": 64,
   "metadata": {},
   "outputs": [],
   "source": [
    "# Write to excel file:\n",
    "from datetime import date\n",
    "\n",
    "tview_crypto_df.to_excel(\"coingecko_\" + str(date.today()) + \".xlsx\", index = False)"
   ]
  }
 ],
 "metadata": {
  "kernelspec": {
   "display_name": "Python 3",
   "language": "python",
   "name": "python3"
  },
  "language_info": {
   "codemirror_mode": {
    "name": "ipython",
    "version": 3
   },
   "file_extension": ".py",
   "mimetype": "text/x-python",
   "name": "python",
   "nbconvert_exporter": "python",
   "pygments_lexer": "ipython3",
   "version": "3.8.3"
  }
 },
 "nbformat": 4,
 "nbformat_minor": 4
}
