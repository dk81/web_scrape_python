{
 "cells": [
  {
   "cell_type": "code",
   "execution_count": 1,
   "metadata": {},
   "outputs": [],
   "source": [
    "# Imports\n",
    "# Reference: https://www.youtube.com/watch?v=gzLIJZkOGYQ\n",
    "\n",
    "from bs4 import BeautifulSoup\n",
    "import requests\n",
    "import pandas as pd\n",
    "from datetime import date"
   ]
  },
  {
   "cell_type": "code",
   "execution_count": 2,
   "metadata": {},
   "outputs": [],
   "source": [
    "# URL for searching Android tablets on Newegg.ca\n",
    "url = \"https://www.newegg.ca/p/pl?N=100165903%20600502553\"\n",
    "\n",
    "# Get Request\n",
    "response = requests.get(url)"
   ]
  },
  {
   "cell_type": "code",
   "execution_count": 3,
   "metadata": {},
   "outputs": [
    {
     "data": {
      "text/plain": [
       "200"
      ]
     },
     "execution_count": 3,
     "metadata": {},
     "output_type": "execute_result"
    }
   ],
   "source": [
    "response.status_code"
   ]
  },
  {
   "cell_type": "code",
   "execution_count": 4,
   "metadata": {},
   "outputs": [],
   "source": [
    "# Get the soup\n",
    "soup = BeautifulSoup(response.content, 'html.parser')"
   ]
  },
  {
   "cell_type": "markdown",
   "metadata": {},
   "source": [
    "## Obtain Results & Some Testing"
   ]
  },
  {
   "cell_type": "code",
   "execution_count": 5,
   "metadata": {},
   "outputs": [],
   "source": [
    "# Results\n",
    "results = soup.find_all('div', {'class': 'item-cell'})"
   ]
  },
  {
   "cell_type": "code",
   "execution_count": 6,
   "metadata": {},
   "outputs": [
    {
     "data": {
      "text/plain": [
       "36"
      ]
     },
     "execution_count": 6,
     "metadata": {},
     "output_type": "execute_result"
    }
   ],
   "source": [
    "# Number of items on page\n",
    "len(results)"
   ]
  },
  {
   "cell_type": "code",
   "execution_count": 7,
   "metadata": {},
   "outputs": [
    {
     "data": {
      "text/plain": [
       "'https://www.newegg.ca/p/0EJ-000P-005K7'"
      ]
     },
     "execution_count": 7,
     "metadata": {},
     "output_type": "execute_result"
    }
   ],
   "source": [
    "# Obtain link\n",
    "\n",
    "results[0].find('a', {'class': 'item-img'})['href']"
   ]
  },
  {
   "cell_type": "code",
   "execution_count": 8,
   "metadata": {},
   "outputs": [
    {
     "data": {
      "text/plain": [
       "'SAMSUNG'"
      ]
     },
     "execution_count": 8,
     "metadata": {},
     "output_type": "execute_result"
    }
   ],
   "source": [
    "# Product Company:\n",
    "results[0].find('a', {'class': 'item-brand'}).find('img')['title']"
   ]
  },
  {
   "cell_type": "code",
   "execution_count": 9,
   "metadata": {},
   "outputs": [
    {
     "data": {
      "text/plain": [
       "'Samsung Galaxy Tab S6 Lite 10.4\", 64GB WiFi Tablet Oxford Gray - SM-P610NZAAXAR - S Pen Included'"
      ]
     },
     "execution_count": 9,
     "metadata": {},
     "output_type": "execute_result"
    }
   ],
   "source": [
    "# Product Name:\n",
    "results[0].find('a', {'class': 'item-title'}).get_text()"
   ]
  },
  {
   "cell_type": "code",
   "execution_count": 10,
   "metadata": {},
   "outputs": [
    {
     "data": {
      "text/plain": [
       "'469'"
      ]
     },
     "execution_count": 10,
     "metadata": {},
     "output_type": "execute_result"
    }
   ],
   "source": [
    "# Current Price of Product:\n",
    "results[0].find('li', {'class': 'price-current'}).find('strong').get_text() "
   ]
  },
  {
   "cell_type": "code",
   "execution_count": 11,
   "metadata": {},
   "outputs": [
    {
     "data": {
      "text/plain": [
       "'.99'"
      ]
     },
     "execution_count": 11,
     "metadata": {},
     "output_type": "execute_result"
    }
   ],
   "source": [
    "results[0].find('li', {'class': 'price-current'}).find('sup').get_text() "
   ]
  },
  {
   "cell_type": "code",
   "execution_count": 12,
   "metadata": {},
   "outputs": [
    {
     "data": {
      "text/plain": [
       "'469.99'"
      ]
     },
     "execution_count": 12,
     "metadata": {},
     "output_type": "execute_result"
    }
   ],
   "source": [
    "# Combine price:\n",
    "results[0].find('li', {'class': 'price-current'}).find('strong').get_text() + results[0].find('li', {'class': 'price-current'}).find('sup').get_text() "
   ]
  },
  {
   "cell_type": "code",
   "execution_count": 13,
   "metadata": {},
   "outputs": [
    {
     "data": {
      "text/plain": [
       "'$27.02 Shipping'"
      ]
     },
     "execution_count": 13,
     "metadata": {},
     "output_type": "execute_result"
    }
   ],
   "source": [
    "# Shipping Cost:\n",
    "results[0].find('li', {'class': 'price-ship'}).get_text() "
   ]
  },
  {
   "cell_type": "markdown",
   "metadata": {},
   "source": [
    "## Obtain Data\n",
    "\n",
    "Extract Product Name, Price, Shipping Cost, Link"
   ]
  },
  {
   "cell_type": "code",
   "execution_count": 14,
   "metadata": {},
   "outputs": [],
   "source": [
    "product_name = [item.find('a', {'class': 'item-title'}).get_text() for item in results]"
   ]
  },
  {
   "cell_type": "code",
   "execution_count": 15,
   "metadata": {},
   "outputs": [],
   "source": [
    "price = [item.find('li', {'class': 'price-current'}).find('strong').get_text() +\n",
    "         item.find('li', {'class': 'price-current'}).find('sup').get_text() \n",
    "         for item in results]"
   ]
  },
  {
   "cell_type": "code",
   "execution_count": 16,
   "metadata": {},
   "outputs": [],
   "source": [
    "shipping_costs = [item.find('li', {'class': 'price-ship'}).get_text() for item in results]"
   ]
  },
  {
   "cell_type": "code",
   "execution_count": 17,
   "metadata": {},
   "outputs": [],
   "source": [
    "links = [item.find('a', {'class': 'item-img'})['href'] for item in results]"
   ]
  },
  {
   "cell_type": "markdown",
   "metadata": {},
   "source": [
    "## Make Dataframe"
   ]
  },
  {
   "cell_type": "code",
   "execution_count": 18,
   "metadata": {},
   "outputs": [],
   "source": [
    "df = pd.DataFrame({\n",
    "     'Product': product_name,\n",
    "     'Price': price,\n",
    "     'Shipping Costs': shipping_costs,\n",
    "     'URL Link': links\n",
    "})"
   ]
  },
  {
   "cell_type": "code",
   "execution_count": 19,
   "metadata": {},
   "outputs": [
    {
     "data": {
      "text/html": [
       "<div>\n",
       "<style scoped>\n",
       "    .dataframe tbody tr th:only-of-type {\n",
       "        vertical-align: middle;\n",
       "    }\n",
       "\n",
       "    .dataframe tbody tr th {\n",
       "        vertical-align: top;\n",
       "    }\n",
       "\n",
       "    .dataframe thead th {\n",
       "        text-align: right;\n",
       "    }\n",
       "</style>\n",
       "<table border=\"1\" class=\"dataframe\">\n",
       "  <thead>\n",
       "    <tr style=\"text-align: right;\">\n",
       "      <th></th>\n",
       "      <th>Product</th>\n",
       "      <th>Price</th>\n",
       "      <th>Shipping Costs</th>\n",
       "      <th>URL Link</th>\n",
       "    </tr>\n",
       "  </thead>\n",
       "  <tbody>\n",
       "    <tr>\n",
       "      <th>0</th>\n",
       "      <td>Samsung Galaxy Tab S6 Lite 10.4\", 64GB WiFi Ta...</td>\n",
       "      <td>469.99</td>\n",
       "      <td>$27.02 Shipping</td>\n",
       "      <td>https://www.newegg.ca/p/0EJ-000P-005K7</td>\n",
       "    </tr>\n",
       "    <tr>\n",
       "      <th>1</th>\n",
       "      <td>Samsung Galaxy Tab A8 10.5\" (2021) 32GB ROM + ...</td>\n",
       "      <td>275.00</td>\n",
       "      <td>Free Shipping</td>\n",
       "      <td>https://www.newegg.ca/samsung-galaxy-tab-a8-10...</td>\n",
       "    </tr>\n",
       "    <tr>\n",
       "      <th>2</th>\n",
       "      <td>Lenovo Tab P11, 11.0\" IPS Touch  400 nits, 4GB...</td>\n",
       "      <td>269.99</td>\n",
       "      <td>Free Shipping</td>\n",
       "      <td>https://www.newegg.ca/p/0EJ-001J-003V6</td>\n",
       "    </tr>\n",
       "    <tr>\n",
       "      <th>3</th>\n",
       "      <td>Lenovo Tab P12 Pro, 12.6\" Touch  400 nits, 6GB...</td>\n",
       "      <td>959.99</td>\n",
       "      <td>Free Shipping</td>\n",
       "      <td>https://www.newegg.ca/p/0EJ-001J-00486</td>\n",
       "    </tr>\n",
       "    <tr>\n",
       "      <th>4</th>\n",
       "      <td>Lenovo Tab P11, 11.0\" IPS Touch 400 nits, 4GB,...</td>\n",
       "      <td>289.99</td>\n",
       "      <td>Free Shipping</td>\n",
       "      <td>https://www.newegg.ca/lenovo-za7r0144us-tab-p1...</td>\n",
       "    </tr>\n",
       "    <tr>\n",
       "      <th>5</th>\n",
       "      <td>Lenovo Smart Tab M10 Plus, 10.3\" FHD IPS Touch...</td>\n",
       "      <td>199.99</td>\n",
       "      <td>Free Shipping</td>\n",
       "      <td>https://www.newegg.ca/lenovo-za5w0029us-smart-...</td>\n",
       "    </tr>\n",
       "    <tr>\n",
       "      <th>6</th>\n",
       "      <td>Lenovo Tab P11 + pen + keyboard bundle, 11.0\" ...</td>\n",
       "      <td>369.99</td>\n",
       "      <td>Free Shipping</td>\n",
       "      <td>https://www.newegg.ca/p/0EJ-001J-00487</td>\n",
       "    </tr>\n",
       "    <tr>\n",
       "      <th>7</th>\n",
       "      <td>Samsung Galaxy Tab S7 11\" T870 128 GB Wi-Fi Ta...</td>\n",
       "      <td>839.99</td>\n",
       "      <td>Free Shipping</td>\n",
       "      <td>https://www.newegg.ca/samsung-sm-t870nzsaxar-g...</td>\n",
       "    </tr>\n",
       "    <tr>\n",
       "      <th>8</th>\n",
       "      <td>Lenovo Yoga Tab 13, 13.0\" Touch  60Hz  60Hz, 8...</td>\n",
       "      <td>769.99</td>\n",
       "      <td>Free Shipping</td>\n",
       "      <td>https://www.newegg.ca/p/0EJ-001J-003Z0</td>\n",
       "    </tr>\n",
       "    <tr>\n",
       "      <th>9</th>\n",
       "      <td>Lenovo Tab P11, 11.0\" IPS Touch  400 nits, 6GB...</td>\n",
       "      <td>399.99</td>\n",
       "      <td>Free Shipping</td>\n",
       "      <td>https://www.newegg.ca/p/0EJ-001J-003U6</td>\n",
       "    </tr>\n",
       "    <tr>\n",
       "      <th>10</th>\n",
       "      <td>Lenovo Tab P12 Pro, 12.6\" Touch  400 nits, 8GB...</td>\n",
       "      <td>989.99</td>\n",
       "      <td>Free Shipping</td>\n",
       "      <td>https://www.newegg.ca/p/0EJ-001J-00498</td>\n",
       "    </tr>\n",
       "    <tr>\n",
       "      <th>11</th>\n",
       "      <td>Lenovo Yoga Smart Tab, 10.1\" FHD IPS Touch, 4G...</td>\n",
       "      <td>234.99</td>\n",
       "      <td>Free Shipping</td>\n",
       "      <td>https://www.newegg.ca/p/0EJ-001J-002N2</td>\n",
       "    </tr>\n",
       "  </tbody>\n",
       "</table>\n",
       "</div>"
      ],
      "text/plain": [
       "                                              Product   Price  \\\n",
       "0   Samsung Galaxy Tab S6 Lite 10.4\", 64GB WiFi Ta...  469.99   \n",
       "1   Samsung Galaxy Tab A8 10.5\" (2021) 32GB ROM + ...  275.00   \n",
       "2   Lenovo Tab P11, 11.0\" IPS Touch  400 nits, 4GB...  269.99   \n",
       "3   Lenovo Tab P12 Pro, 12.6\" Touch  400 nits, 6GB...  959.99   \n",
       "4   Lenovo Tab P11, 11.0\" IPS Touch 400 nits, 4GB,...  289.99   \n",
       "5   Lenovo Smart Tab M10 Plus, 10.3\" FHD IPS Touch...  199.99   \n",
       "6   Lenovo Tab P11 + pen + keyboard bundle, 11.0\" ...  369.99   \n",
       "7   Samsung Galaxy Tab S7 11\" T870 128 GB Wi-Fi Ta...  839.99   \n",
       "8   Lenovo Yoga Tab 13, 13.0\" Touch  60Hz  60Hz, 8...  769.99   \n",
       "9   Lenovo Tab P11, 11.0\" IPS Touch  400 nits, 6GB...  399.99   \n",
       "10  Lenovo Tab P12 Pro, 12.6\" Touch  400 nits, 8GB...  989.99   \n",
       "11  Lenovo Yoga Smart Tab, 10.1\" FHD IPS Touch, 4G...  234.99   \n",
       "\n",
       "     Shipping Costs                                           URL Link  \n",
       "0   $27.02 Shipping             https://www.newegg.ca/p/0EJ-000P-005K7  \n",
       "1     Free Shipping  https://www.newegg.ca/samsung-galaxy-tab-a8-10...  \n",
       "2     Free Shipping             https://www.newegg.ca/p/0EJ-001J-003V6  \n",
       "3     Free Shipping             https://www.newegg.ca/p/0EJ-001J-00486  \n",
       "4     Free Shipping  https://www.newegg.ca/lenovo-za7r0144us-tab-p1...  \n",
       "5     Free Shipping  https://www.newegg.ca/lenovo-za5w0029us-smart-...  \n",
       "6     Free Shipping             https://www.newegg.ca/p/0EJ-001J-00487  \n",
       "7     Free Shipping  https://www.newegg.ca/samsung-sm-t870nzsaxar-g...  \n",
       "8     Free Shipping             https://www.newegg.ca/p/0EJ-001J-003Z0  \n",
       "9     Free Shipping             https://www.newegg.ca/p/0EJ-001J-003U6  \n",
       "10    Free Shipping             https://www.newegg.ca/p/0EJ-001J-00498  \n",
       "11    Free Shipping             https://www.newegg.ca/p/0EJ-001J-002N2  "
      ]
     },
     "execution_count": 19,
     "metadata": {},
     "output_type": "execute_result"
    }
   ],
   "source": [
    "# Sample of dataframe:\n",
    "df.head(12)"
   ]
  },
  {
   "cell_type": "markdown",
   "metadata": {},
   "source": [
    "# Multiple Pages Case"
   ]
  },
  {
   "cell_type": "markdown",
   "metadata": {},
   "source": [
    "The previous work was extracting data from one page. What if I want to extract data from multiple pages?\n",
    "\n",
    "For the multiple pages case, I want to extract more pages from the Android tablets. Just 3 pages"
   ]
  },
  {
   "cell_type": "code",
   "execution_count": 20,
   "metadata": {},
   "outputs": [],
   "source": [
    "# Initalize lists:\n",
    "\n",
    "tablet_names = []\n",
    "price_list = []\n",
    "shipping_costs_list = []\n",
    "tablet_urls = []\n",
    "\n",
    "# Scrape 3 pages for android tablets on newegg.ca\n",
    "\n",
    "for i in range(1, 4, 1):\n",
    "    tablet_url = f'https://www.newegg.ca/p/pl?N=100165903%20600502553&page={i}'\n",
    "    # Get Request, soup and results for page\n",
    "    response = requests.get(url)\n",
    "    soup = BeautifulSoup(response.content, 'html.parser')\n",
    "    results = soup.find_all('div', {'class': 'item-cell'})\n",
    "    \n",
    "    # Loop through results:\n",
    "    for item in results:\n",
    "        # Tablet Name\n",
    "        try:\n",
    "            tablet_names.append(item.find('a', {'class': 'item-title'}).get_text())\n",
    "        except:\n",
    "            tablet_names.append('N/A')\n",
    "        # Price (CAD):\n",
    "        try:\n",
    "            price_list.append(item.find('li', {'class': 'price-current'}).find('strong').get_text() +\n",
    "                              item.find('li', {'class': 'price-current'}).find('sup').get_text())\n",
    "        except:\n",
    "            price_list.append('N/A')\n",
    "        # Shipping Costs:\n",
    "        try:\n",
    "            shipping_costs_list.append(item.find('li', {'class': 'price-ship'}).get_text())\n",
    "        except:\n",
    "            shipping_costs_list.append('N/A')\n",
    "        # Tablet URL Links for more description.\n",
    "        try:\n",
    "            tablet_urls.append(item.find('a', {'class': 'item-img'})['href'])\n",
    "        except:\n",
    "            tablet_urls.append('N/A')\n",
    "                                       "
   ]
  },
  {
   "cell_type": "code",
   "execution_count": 21,
   "metadata": {},
   "outputs": [],
   "source": [
    "# Make dataframe:\n",
    "\n",
    "newegg_tablets_df = pd.DataFrame({\n",
    "     'Product': tablet_names,\n",
    "     'Price (CAD)': price_list,\n",
    "     'Shipping Costs': shipping_costs_list,\n",
    "     'URL Link': tablet_urls\n",
    "})"
   ]
  },
  {
   "cell_type": "code",
   "execution_count": 22,
   "metadata": {},
   "outputs": [
    {
     "data": {
      "text/html": [
       "<div>\n",
       "<style scoped>\n",
       "    .dataframe tbody tr th:only-of-type {\n",
       "        vertical-align: middle;\n",
       "    }\n",
       "\n",
       "    .dataframe tbody tr th {\n",
       "        vertical-align: top;\n",
       "    }\n",
       "\n",
       "    .dataframe thead th {\n",
       "        text-align: right;\n",
       "    }\n",
       "</style>\n",
       "<table border=\"1\" class=\"dataframe\">\n",
       "  <thead>\n",
       "    <tr style=\"text-align: right;\">\n",
       "      <th></th>\n",
       "      <th>Product</th>\n",
       "      <th>Price (CAD)</th>\n",
       "      <th>Shipping Costs</th>\n",
       "      <th>URL Link</th>\n",
       "    </tr>\n",
       "  </thead>\n",
       "  <tbody>\n",
       "    <tr>\n",
       "      <th>0</th>\n",
       "      <td>Samsung Galaxy Tab S6 Lite 10.4\", 64GB WiFi Ta...</td>\n",
       "      <td>469.99</td>\n",
       "      <td>$27.02 Shipping</td>\n",
       "      <td>https://www.newegg.ca/p/0EJ-000P-005K7</td>\n",
       "    </tr>\n",
       "    <tr>\n",
       "      <th>1</th>\n",
       "      <td>Samsung Galaxy Tab A8 10.5\" (2021) 32GB ROM + ...</td>\n",
       "      <td>275.00</td>\n",
       "      <td>Free Shipping</td>\n",
       "      <td>https://www.newegg.ca/samsung-galaxy-tab-a8-10...</td>\n",
       "    </tr>\n",
       "    <tr>\n",
       "      <th>2</th>\n",
       "      <td>Lenovo Tab P11, 11.0\" IPS Touch  400 nits, 4GB...</td>\n",
       "      <td>269.99</td>\n",
       "      <td>Free Shipping</td>\n",
       "      <td>https://www.newegg.ca/p/0EJ-001J-003V6</td>\n",
       "    </tr>\n",
       "    <tr>\n",
       "      <th>3</th>\n",
       "      <td>Lenovo Tab P12 Pro, 12.6\" Touch  400 nits, 6GB...</td>\n",
       "      <td>959.99</td>\n",
       "      <td>Free Shipping</td>\n",
       "      <td>https://www.newegg.ca/p/0EJ-001J-00486</td>\n",
       "    </tr>\n",
       "    <tr>\n",
       "      <th>4</th>\n",
       "      <td>Lenovo Tab P11, 11.0\" IPS Touch 400 nits, 4GB,...</td>\n",
       "      <td>289.99</td>\n",
       "      <td>Free Shipping</td>\n",
       "      <td>https://www.newegg.ca/lenovo-za7r0144us-tab-p1...</td>\n",
       "    </tr>\n",
       "    <tr>\n",
       "      <th>5</th>\n",
       "      <td>Lenovo Smart Tab M10 Plus, 10.3\" FHD IPS Touch...</td>\n",
       "      <td>199.99</td>\n",
       "      <td>Free Shipping</td>\n",
       "      <td>https://www.newegg.ca/lenovo-za5w0029us-smart-...</td>\n",
       "    </tr>\n",
       "    <tr>\n",
       "      <th>6</th>\n",
       "      <td>Lenovo Tab P11 + pen + keyboard bundle, 11.0\" ...</td>\n",
       "      <td>369.99</td>\n",
       "      <td>Free Shipping</td>\n",
       "      <td>https://www.newegg.ca/p/0EJ-001J-00487</td>\n",
       "    </tr>\n",
       "    <tr>\n",
       "      <th>7</th>\n",
       "      <td>Samsung Galaxy Tab S7 11\" T870 128 GB Wi-Fi Ta...</td>\n",
       "      <td>839.99</td>\n",
       "      <td>Free Shipping</td>\n",
       "      <td>https://www.newegg.ca/samsung-sm-t870nzsaxar-g...</td>\n",
       "    </tr>\n",
       "    <tr>\n",
       "      <th>8</th>\n",
       "      <td>Lenovo Yoga Tab 13, 13.0\" Touch  60Hz  60Hz, 8...</td>\n",
       "      <td>769.99</td>\n",
       "      <td>Free Shipping</td>\n",
       "      <td>https://www.newegg.ca/p/0EJ-001J-003Z0</td>\n",
       "    </tr>\n",
       "    <tr>\n",
       "      <th>9</th>\n",
       "      <td>Lenovo Tab P11, 11.0\" IPS Touch  400 nits, 6GB...</td>\n",
       "      <td>399.99</td>\n",
       "      <td>Free Shipping</td>\n",
       "      <td>https://www.newegg.ca/p/0EJ-001J-003U6</td>\n",
       "    </tr>\n",
       "    <tr>\n",
       "      <th>10</th>\n",
       "      <td>Lenovo Tab P12 Pro, 12.6\" Touch  400 nits, 8GB...</td>\n",
       "      <td>989.99</td>\n",
       "      <td>Free Shipping</td>\n",
       "      <td>https://www.newegg.ca/p/0EJ-001J-00498</td>\n",
       "    </tr>\n",
       "    <tr>\n",
       "      <th>11</th>\n",
       "      <td>Lenovo Yoga Smart Tab, 10.1\" FHD IPS Touch, 4G...</td>\n",
       "      <td>234.99</td>\n",
       "      <td>Free Shipping</td>\n",
       "      <td>https://www.newegg.ca/p/0EJ-001J-002N2</td>\n",
       "    </tr>\n",
       "  </tbody>\n",
       "</table>\n",
       "</div>"
      ],
      "text/plain": [
       "                                              Product Price (CAD)  \\\n",
       "0   Samsung Galaxy Tab S6 Lite 10.4\", 64GB WiFi Ta...      469.99   \n",
       "1   Samsung Galaxy Tab A8 10.5\" (2021) 32GB ROM + ...      275.00   \n",
       "2   Lenovo Tab P11, 11.0\" IPS Touch  400 nits, 4GB...      269.99   \n",
       "3   Lenovo Tab P12 Pro, 12.6\" Touch  400 nits, 6GB...      959.99   \n",
       "4   Lenovo Tab P11, 11.0\" IPS Touch 400 nits, 4GB,...      289.99   \n",
       "5   Lenovo Smart Tab M10 Plus, 10.3\" FHD IPS Touch...      199.99   \n",
       "6   Lenovo Tab P11 + pen + keyboard bundle, 11.0\" ...      369.99   \n",
       "7   Samsung Galaxy Tab S7 11\" T870 128 GB Wi-Fi Ta...      839.99   \n",
       "8   Lenovo Yoga Tab 13, 13.0\" Touch  60Hz  60Hz, 8...      769.99   \n",
       "9   Lenovo Tab P11, 11.0\" IPS Touch  400 nits, 6GB...      399.99   \n",
       "10  Lenovo Tab P12 Pro, 12.6\" Touch  400 nits, 8GB...      989.99   \n",
       "11  Lenovo Yoga Smart Tab, 10.1\" FHD IPS Touch, 4G...      234.99   \n",
       "\n",
       "     Shipping Costs                                           URL Link  \n",
       "0   $27.02 Shipping             https://www.newegg.ca/p/0EJ-000P-005K7  \n",
       "1     Free Shipping  https://www.newegg.ca/samsung-galaxy-tab-a8-10...  \n",
       "2     Free Shipping             https://www.newegg.ca/p/0EJ-001J-003V6  \n",
       "3     Free Shipping             https://www.newegg.ca/p/0EJ-001J-00486  \n",
       "4     Free Shipping  https://www.newegg.ca/lenovo-za7r0144us-tab-p1...  \n",
       "5     Free Shipping  https://www.newegg.ca/lenovo-za5w0029us-smart-...  \n",
       "6     Free Shipping             https://www.newegg.ca/p/0EJ-001J-00487  \n",
       "7     Free Shipping  https://www.newegg.ca/samsung-sm-t870nzsaxar-g...  \n",
       "8     Free Shipping             https://www.newegg.ca/p/0EJ-001J-003Z0  \n",
       "9     Free Shipping             https://www.newegg.ca/p/0EJ-001J-003U6  \n",
       "10    Free Shipping             https://www.newegg.ca/p/0EJ-001J-00498  \n",
       "11    Free Shipping             https://www.newegg.ca/p/0EJ-001J-002N2  "
      ]
     },
     "execution_count": 22,
     "metadata": {},
     "output_type": "execute_result"
    }
   ],
   "source": [
    "# Preview newegg_tablets dataframe:\n",
    "\n",
    "newegg_tablets_df.head(12)"
   ]
  },
  {
   "cell_type": "markdown",
   "metadata": {},
   "source": [
    "## Save Raw Data"
   ]
  },
  {
   "cell_type": "code",
   "execution_count": 23,
   "metadata": {},
   "outputs": [],
   "source": [
    "# Save raw data to .csv file\n",
    "\n",
    "newegg_tablets_df.to_csv('newegg_android_tablets_' + str(date.today()) + '.csv')"
   ]
  },
  {
   "cell_type": "markdown",
   "metadata": {},
   "source": [
    "## Optional: Data Cleaning & Data Filtering"
   ]
  },
  {
   "cell_type": "markdown",
   "metadata": {},
   "source": [
    "Now that the data has been obtained, we have to do a little bit of data cleaning before doing some data analysis."
   ]
  },
  {
   "cell_type": "code",
   "execution_count": 28,
   "metadata": {},
   "outputs": [
    {
     "name": "stdout",
     "output_type": "stream",
     "text": [
      "<class 'pandas.core.frame.DataFrame'>\n",
      "RangeIndex: 108 entries, 0 to 107\n",
      "Data columns (total 4 columns):\n",
      " #   Column          Non-Null Count  Dtype  \n",
      "---  ------          --------------  -----  \n",
      " 0   Product         108 non-null    object \n",
      " 1   Price (CAD)     108 non-null    float64\n",
      " 2   Shipping Costs  108 non-null    object \n",
      " 3   URL Link        108 non-null    object \n",
      "dtypes: float64(1), object(3)\n",
      "memory usage: 3.5+ KB\n"
     ]
    }
   ],
   "source": [
    "# Check data types:\n",
    "\n",
    "newegg_tablets_df.info()"
   ]
  },
  {
   "cell_type": "code",
   "execution_count": 27,
   "metadata": {},
   "outputs": [],
   "source": [
    "# Convert price into numeric while removing commas too:\n",
    "newegg_tablets_df['Price (CAD)'] = pd.to_numeric(newegg_tablets_df['Price (CAD)'].str.replace(',', \"\"))"
   ]
  },
  {
   "cell_type": "code",
   "execution_count": 29,
   "metadata": {},
   "outputs": [
    {
     "data": {
      "text/plain": [
       "array(['$27.02 Shipping', 'Free Shipping', '$9.99 Shipping',\n",
       "       'Special Shipping'], dtype=object)"
      ]
     },
     "execution_count": 29,
     "metadata": {},
     "output_type": "execute_result"
    }
   ],
   "source": [
    "# Check out shipping costs column:\n",
    "newegg_tablets_df['Shipping Costs'].unique()"
   ]
  },
  {
   "cell_type": "markdown",
   "metadata": {},
   "source": [
    "The original plan was to convert the shipping values into numeric values. Having Special Shipping in there does cause a problem. Not sure what numeric value can be associated with Special Shipping. The column will be left alone."
   ]
  },
  {
   "cell_type": "code",
   "execution_count": 46,
   "metadata": {},
   "outputs": [
    {
     "data": {
      "text/html": [
       "<div>\n",
       "<style scoped>\n",
       "    .dataframe tbody tr th:only-of-type {\n",
       "        vertical-align: middle;\n",
       "    }\n",
       "\n",
       "    .dataframe tbody tr th {\n",
       "        vertical-align: top;\n",
       "    }\n",
       "\n",
       "    .dataframe thead th {\n",
       "        text-align: right;\n",
       "    }\n",
       "</style>\n",
       "<table border=\"1\" class=\"dataframe\">\n",
       "  <thead>\n",
       "    <tr style=\"text-align: right;\">\n",
       "      <th></th>\n",
       "      <th>Product</th>\n",
       "      <th>Price (CAD)</th>\n",
       "      <th>Shipping Costs</th>\n",
       "      <th>URL Link</th>\n",
       "    </tr>\n",
       "  </thead>\n",
       "  <tbody>\n",
       "    <tr>\n",
       "      <th>28</th>\n",
       "      <td>Contixo V8-2 7 inch Kids Tablets - Tablet for ...</td>\n",
       "      <td>99.99</td>\n",
       "      <td>Free Shipping</td>\n",
       "      <td>https://www.newegg.ca/p/0EJ-003T-00099</td>\n",
       "    </tr>\n",
       "    <tr>\n",
       "      <th>62</th>\n",
       "      <td>Contixo V8-2 7 inch Kids Tablets - Tablet for ...</td>\n",
       "      <td>99.99</td>\n",
       "      <td>Free Shipping</td>\n",
       "      <td>https://www.newegg.ca/p/0EJ-003T-00099</td>\n",
       "    </tr>\n",
       "    <tr>\n",
       "      <th>98</th>\n",
       "      <td>Contixo V8-2 7 inch Kids Tablets - Tablet for ...</td>\n",
       "      <td>99.99</td>\n",
       "      <td>Free Shipping</td>\n",
       "      <td>https://www.newegg.ca/p/0EJ-003T-00099</td>\n",
       "    </tr>\n",
       "    <tr>\n",
       "      <th>51</th>\n",
       "      <td>Lenovo Tab M8 HD, 8.0\" IPS Touch  350 nits, 2G...</td>\n",
       "      <td>129.99</td>\n",
       "      <td>Free Shipping</td>\n",
       "      <td>https://www.newegg.ca/p/0EJ-001J-002M7</td>\n",
       "    </tr>\n",
       "    <tr>\n",
       "      <th>16</th>\n",
       "      <td>Lenovo Tab M8 HD, 8.0\" IPS Touch  350 nits, 2G...</td>\n",
       "      <td>129.99</td>\n",
       "      <td>Free Shipping</td>\n",
       "      <td>https://www.newegg.ca/p/0EJ-001J-002M7</td>\n",
       "    </tr>\n",
       "    <tr>\n",
       "      <th>87</th>\n",
       "      <td>Lenovo Tab M8 HD, 8.0\" IPS Touch  350 nits, 2G...</td>\n",
       "      <td>129.99</td>\n",
       "      <td>Free Shipping</td>\n",
       "      <td>https://www.newegg.ca/p/0EJ-001J-002M7</td>\n",
       "    </tr>\n",
       "    <tr>\n",
       "      <th>81</th>\n",
       "      <td>Lenovo Tab M8 FHD, 8.0\" FHD IPS Touch  350 nit...</td>\n",
       "      <td>154.99</td>\n",
       "      <td>Free Shipping</td>\n",
       "      <td>https://www.newegg.ca/p/0EJ-001J-002P9</td>\n",
       "    </tr>\n",
       "    <tr>\n",
       "      <th>12</th>\n",
       "      <td>Lenovo Tab M8 FHD, 8.0\" FHD IPS Touch  350 nit...</td>\n",
       "      <td>154.99</td>\n",
       "      <td>Free Shipping</td>\n",
       "      <td>https://www.newegg.ca/p/0EJ-001J-002P9</td>\n",
       "    </tr>\n",
       "  </tbody>\n",
       "</table>\n",
       "</div>"
      ],
      "text/plain": [
       "                                              Product  Price (CAD)  \\\n",
       "28  Contixo V8-2 7 inch Kids Tablets - Tablet for ...        99.99   \n",
       "62  Contixo V8-2 7 inch Kids Tablets - Tablet for ...        99.99   \n",
       "98  Contixo V8-2 7 inch Kids Tablets - Tablet for ...        99.99   \n",
       "51  Lenovo Tab M8 HD, 8.0\" IPS Touch  350 nits, 2G...       129.99   \n",
       "16  Lenovo Tab M8 HD, 8.0\" IPS Touch  350 nits, 2G...       129.99   \n",
       "87  Lenovo Tab M8 HD, 8.0\" IPS Touch  350 nits, 2G...       129.99   \n",
       "81  Lenovo Tab M8 FHD, 8.0\" FHD IPS Touch  350 nit...       154.99   \n",
       "12  Lenovo Tab M8 FHD, 8.0\" FHD IPS Touch  350 nit...       154.99   \n",
       "\n",
       "   Shipping Costs                                URL Link  \n",
       "28  Free Shipping  https://www.newegg.ca/p/0EJ-003T-00099  \n",
       "62  Free Shipping  https://www.newegg.ca/p/0EJ-003T-00099  \n",
       "98  Free Shipping  https://www.newegg.ca/p/0EJ-003T-00099  \n",
       "51  Free Shipping  https://www.newegg.ca/p/0EJ-001J-002M7  \n",
       "16  Free Shipping  https://www.newegg.ca/p/0EJ-001J-002M7  \n",
       "87  Free Shipping  https://www.newegg.ca/p/0EJ-001J-002M7  \n",
       "81  Free Shipping  https://www.newegg.ca/p/0EJ-001J-002P9  \n",
       "12  Free Shipping  https://www.newegg.ca/p/0EJ-001J-002P9  "
      ]
     },
     "execution_count": 46,
     "metadata": {},
     "output_type": "execute_result"
    }
   ],
   "source": [
    "# Sorting the tablets by price, Cheapest tablets\n",
    "newegg_tablets_df.sort_values(['Price (CAD)']).head(8)"
   ]
  },
  {
   "cell_type": "code",
   "execution_count": 47,
   "metadata": {},
   "outputs": [
    {
     "data": {
      "text/html": [
       "<div>\n",
       "<style scoped>\n",
       "    .dataframe tbody tr th:only-of-type {\n",
       "        vertical-align: middle;\n",
       "    }\n",
       "\n",
       "    .dataframe tbody tr th {\n",
       "        vertical-align: top;\n",
       "    }\n",
       "\n",
       "    .dataframe thead th {\n",
       "        text-align: right;\n",
       "    }\n",
       "</style>\n",
       "<table border=\"1\" class=\"dataframe\">\n",
       "  <thead>\n",
       "    <tr style=\"text-align: right;\">\n",
       "      <th></th>\n",
       "      <th>Product</th>\n",
       "      <th>Price (CAD)</th>\n",
       "      <th>Shipping Costs</th>\n",
       "      <th>URL Link</th>\n",
       "    </tr>\n",
       "  </thead>\n",
       "  <tbody>\n",
       "    <tr>\n",
       "      <th>65</th>\n",
       "      <td>Samsung Galaxy Tab S6 (Wi-Fi + 4G LTE) SM-T865...</td>\n",
       "      <td>1699.00</td>\n",
       "      <td>Free Shipping</td>\n",
       "      <td>https://www.newegg.ca/samsung-sm-t865n-grey/p/...</td>\n",
       "    </tr>\n",
       "    <tr>\n",
       "      <th>101</th>\n",
       "      <td>Samsung Galaxy Tab S6 (Wi-Fi + 4G LTE) SM-T865...</td>\n",
       "      <td>1699.00</td>\n",
       "      <td>Free Shipping</td>\n",
       "      <td>https://www.newegg.ca/samsung-sm-t865n-grey/p/...</td>\n",
       "    </tr>\n",
       "    <tr>\n",
       "      <th>29</th>\n",
       "      <td>Samsung Galaxy Tab S6 (Wi-Fi + 4G LTE) SM-T865...</td>\n",
       "      <td>1699.00</td>\n",
       "      <td>Free Shipping</td>\n",
       "      <td>https://www.newegg.ca/samsung-sm-t865n-grey/p/...</td>\n",
       "    </tr>\n",
       "    <tr>\n",
       "      <th>24</th>\n",
       "      <td>Samsung Galaxy Tablet S7+ Mystic Black - 256 GB</td>\n",
       "      <td>1199.99</td>\n",
       "      <td>Free Shipping</td>\n",
       "      <td>https://www.newegg.ca/p/2RC-0034-001S7</td>\n",
       "    </tr>\n",
       "    <tr>\n",
       "      <th>68</th>\n",
       "      <td>Samsung Galaxy Tablet S7+ Mystic Black - 256 GB</td>\n",
       "      <td>1199.99</td>\n",
       "      <td>Free Shipping</td>\n",
       "      <td>https://www.newegg.ca/p/2RC-0034-001S7</td>\n",
       "    </tr>\n",
       "    <tr>\n",
       "      <th>104</th>\n",
       "      <td>Samsung Galaxy Tablet S7+ Mystic Black - 256 GB</td>\n",
       "      <td>1199.99</td>\n",
       "      <td>Free Shipping</td>\n",
       "      <td>https://www.newegg.ca/p/2RC-0034-001S7</td>\n",
       "    </tr>\n",
       "    <tr>\n",
       "      <th>84</th>\n",
       "      <td>Samsung Galaxy Tab S7 11-in 128GB Tablet - Mys...</td>\n",
       "      <td>1064.14</td>\n",
       "      <td>Free Shipping</td>\n",
       "      <td>https://www.newegg.ca/p/0EJ-000P-00658</td>\n",
       "    </tr>\n",
       "    <tr>\n",
       "      <th>48</th>\n",
       "      <td>Samsung Galaxy Tab S7 11-in 128GB Tablet - Mys...</td>\n",
       "      <td>1064.14</td>\n",
       "      <td>Free Shipping</td>\n",
       "      <td>https://www.newegg.ca/p/0EJ-000P-00658</td>\n",
       "    </tr>\n",
       "  </tbody>\n",
       "</table>\n",
       "</div>"
      ],
      "text/plain": [
       "                                               Product  Price (CAD)  \\\n",
       "65   Samsung Galaxy Tab S6 (Wi-Fi + 4G LTE) SM-T865...      1699.00   \n",
       "101  Samsung Galaxy Tab S6 (Wi-Fi + 4G LTE) SM-T865...      1699.00   \n",
       "29   Samsung Galaxy Tab S6 (Wi-Fi + 4G LTE) SM-T865...      1699.00   \n",
       "24     Samsung Galaxy Tablet S7+ Mystic Black - 256 GB      1199.99   \n",
       "68     Samsung Galaxy Tablet S7+ Mystic Black - 256 GB      1199.99   \n",
       "104    Samsung Galaxy Tablet S7+ Mystic Black - 256 GB      1199.99   \n",
       "84   Samsung Galaxy Tab S7 11-in 128GB Tablet - Mys...      1064.14   \n",
       "48   Samsung Galaxy Tab S7 11-in 128GB Tablet - Mys...      1064.14   \n",
       "\n",
       "    Shipping Costs                                           URL Link  \n",
       "65   Free Shipping  https://www.newegg.ca/samsung-sm-t865n-grey/p/...  \n",
       "101  Free Shipping  https://www.newegg.ca/samsung-sm-t865n-grey/p/...  \n",
       "29   Free Shipping  https://www.newegg.ca/samsung-sm-t865n-grey/p/...  \n",
       "24   Free Shipping             https://www.newegg.ca/p/2RC-0034-001S7  \n",
       "68   Free Shipping             https://www.newegg.ca/p/2RC-0034-001S7  \n",
       "104  Free Shipping             https://www.newegg.ca/p/2RC-0034-001S7  \n",
       "84   Free Shipping             https://www.newegg.ca/p/0EJ-000P-00658  \n",
       "48   Free Shipping             https://www.newegg.ca/p/0EJ-000P-00658  "
      ]
     },
     "execution_count": 47,
     "metadata": {},
     "output_type": "execute_result"
    }
   ],
   "source": [
    "# Sorting the tablets by price, Most expensive tablets\n",
    "newegg_tablets_df.sort_values(['Price (CAD)'], ascending = False).head(8)"
   ]
  },
  {
   "cell_type": "code",
   "execution_count": 48,
   "metadata": {},
   "outputs": [
    {
     "data": {
      "text/html": [
       "<div>\n",
       "<style scoped>\n",
       "    .dataframe tbody tr th:only-of-type {\n",
       "        vertical-align: middle;\n",
       "    }\n",
       "\n",
       "    .dataframe tbody tr th {\n",
       "        vertical-align: top;\n",
       "    }\n",
       "\n",
       "    .dataframe thead th {\n",
       "        text-align: right;\n",
       "    }\n",
       "</style>\n",
       "<table border=\"1\" class=\"dataframe\">\n",
       "  <thead>\n",
       "    <tr style=\"text-align: right;\">\n",
       "      <th></th>\n",
       "      <th>Product</th>\n",
       "      <th>Price (CAD)</th>\n",
       "      <th>Shipping Costs</th>\n",
       "      <th>URL Link</th>\n",
       "    </tr>\n",
       "  </thead>\n",
       "  <tbody>\n",
       "    <tr>\n",
       "      <th>0</th>\n",
       "      <td>Samsung Galaxy Tab S6 Lite 10.4\", 64GB WiFi Ta...</td>\n",
       "      <td>469.99</td>\n",
       "      <td>$27.02 Shipping</td>\n",
       "      <td>https://www.newegg.ca/p/0EJ-000P-005K7</td>\n",
       "    </tr>\n",
       "    <tr>\n",
       "      <th>1</th>\n",
       "      <td>Samsung Galaxy Tab A8 10.5\" (2021) 32GB ROM + ...</td>\n",
       "      <td>275.00</td>\n",
       "      <td>Free Shipping</td>\n",
       "      <td>https://www.newegg.ca/samsung-galaxy-tab-a8-10...</td>\n",
       "    </tr>\n",
       "    <tr>\n",
       "      <th>7</th>\n",
       "      <td>Samsung Galaxy Tab S7 11\" T870 128 GB Wi-Fi Ta...</td>\n",
       "      <td>839.99</td>\n",
       "      <td>Free Shipping</td>\n",
       "      <td>https://www.newegg.ca/samsung-sm-t870nzsaxar-g...</td>\n",
       "    </tr>\n",
       "    <tr>\n",
       "      <th>13</th>\n",
       "      <td>Samsung Galaxy Tab S7 11-in 128GB Tablet - Mys...</td>\n",
       "      <td>1064.14</td>\n",
       "      <td>Free Shipping</td>\n",
       "      <td>https://www.newegg.ca/p/0EJ-000P-00658</td>\n",
       "    </tr>\n",
       "    <tr>\n",
       "      <th>24</th>\n",
       "      <td>Samsung Galaxy Tablet S7+ Mystic Black - 256 GB</td>\n",
       "      <td>1199.99</td>\n",
       "      <td>Free Shipping</td>\n",
       "      <td>https://www.newegg.ca/p/2RC-0034-001S7</td>\n",
       "    </tr>\n",
       "    <tr>\n",
       "      <th>29</th>\n",
       "      <td>Samsung Galaxy Tab S6 (Wi-Fi + 4G LTE) SM-T865...</td>\n",
       "      <td>1699.00</td>\n",
       "      <td>Free Shipping</td>\n",
       "      <td>https://www.newegg.ca/samsung-sm-t865n-grey/p/...</td>\n",
       "    </tr>\n",
       "    <tr>\n",
       "      <th>35</th>\n",
       "      <td>Samsung Galaxy Tab A7 10.4 Wi-Fi 32GB Tablet -...</td>\n",
       "      <td>368.13</td>\n",
       "      <td>Free Shipping</td>\n",
       "      <td>https://www.newegg.ca/p/0EJ-000P-00673</td>\n",
       "    </tr>\n",
       "    <tr>\n",
       "      <th>36</th>\n",
       "      <td>Samsung Galaxy Tab S6 Lite 10.4\", 64GB WiFi Ta...</td>\n",
       "      <td>469.99</td>\n",
       "      <td>$27.02 Shipping</td>\n",
       "      <td>https://www.newegg.ca/p/0EJ-000P-005K7</td>\n",
       "    </tr>\n",
       "  </tbody>\n",
       "</table>\n",
       "</div>"
      ],
      "text/plain": [
       "                                              Product  Price (CAD)  \\\n",
       "0   Samsung Galaxy Tab S6 Lite 10.4\", 64GB WiFi Ta...       469.99   \n",
       "1   Samsung Galaxy Tab A8 10.5\" (2021) 32GB ROM + ...       275.00   \n",
       "7   Samsung Galaxy Tab S7 11\" T870 128 GB Wi-Fi Ta...       839.99   \n",
       "13  Samsung Galaxy Tab S7 11-in 128GB Tablet - Mys...      1064.14   \n",
       "24    Samsung Galaxy Tablet S7+ Mystic Black - 256 GB      1199.99   \n",
       "29  Samsung Galaxy Tab S6 (Wi-Fi + 4G LTE) SM-T865...      1699.00   \n",
       "35  Samsung Galaxy Tab A7 10.4 Wi-Fi 32GB Tablet -...       368.13   \n",
       "36  Samsung Galaxy Tab S6 Lite 10.4\", 64GB WiFi Ta...       469.99   \n",
       "\n",
       "     Shipping Costs                                           URL Link  \n",
       "0   $27.02 Shipping             https://www.newegg.ca/p/0EJ-000P-005K7  \n",
       "1     Free Shipping  https://www.newegg.ca/samsung-galaxy-tab-a8-10...  \n",
       "7     Free Shipping  https://www.newegg.ca/samsung-sm-t870nzsaxar-g...  \n",
       "13    Free Shipping             https://www.newegg.ca/p/0EJ-000P-00658  \n",
       "24    Free Shipping             https://www.newegg.ca/p/2RC-0034-001S7  \n",
       "29    Free Shipping  https://www.newegg.ca/samsung-sm-t865n-grey/p/...  \n",
       "35    Free Shipping             https://www.newegg.ca/p/0EJ-000P-00673  \n",
       "36  $27.02 Shipping             https://www.newegg.ca/p/0EJ-000P-005K7  "
      ]
     },
     "execution_count": 48,
     "metadata": {},
     "output_type": "execute_result"
    }
   ],
   "source": [
    "## Searching Android tablets that is from Samsung:\n",
    "newegg_tablets_df[newegg_tablets_df['Product'].str.contains('Samsung')].head(8)"
   ]
  },
  {
   "cell_type": "code",
   "execution_count": 49,
   "metadata": {},
   "outputs": [
    {
     "data": {
      "text/html": [
       "<div>\n",
       "<style scoped>\n",
       "    .dataframe tbody tr th:only-of-type {\n",
       "        vertical-align: middle;\n",
       "    }\n",
       "\n",
       "    .dataframe tbody tr th {\n",
       "        vertical-align: top;\n",
       "    }\n",
       "\n",
       "    .dataframe thead th {\n",
       "        text-align: right;\n",
       "    }\n",
       "</style>\n",
       "<table border=\"1\" class=\"dataframe\">\n",
       "  <thead>\n",
       "    <tr style=\"text-align: right;\">\n",
       "      <th></th>\n",
       "      <th>Product</th>\n",
       "      <th>Price (CAD)</th>\n",
       "      <th>Shipping Costs</th>\n",
       "      <th>URL Link</th>\n",
       "    </tr>\n",
       "  </thead>\n",
       "  <tbody>\n",
       "    <tr>\n",
       "      <th>2</th>\n",
       "      <td>Lenovo Tab P11, 11.0\" IPS Touch  400 nits, 4GB...</td>\n",
       "      <td>269.99</td>\n",
       "      <td>Free Shipping</td>\n",
       "      <td>https://www.newegg.ca/p/0EJ-001J-003V6</td>\n",
       "    </tr>\n",
       "    <tr>\n",
       "      <th>3</th>\n",
       "      <td>Lenovo Tab P12 Pro, 12.6\" Touch  400 nits, 6GB...</td>\n",
       "      <td>959.99</td>\n",
       "      <td>Free Shipping</td>\n",
       "      <td>https://www.newegg.ca/p/0EJ-001J-00486</td>\n",
       "    </tr>\n",
       "    <tr>\n",
       "      <th>4</th>\n",
       "      <td>Lenovo Tab P11, 11.0\" IPS Touch 400 nits, 4GB,...</td>\n",
       "      <td>289.99</td>\n",
       "      <td>Free Shipping</td>\n",
       "      <td>https://www.newegg.ca/lenovo-za7r0144us-tab-p1...</td>\n",
       "    </tr>\n",
       "    <tr>\n",
       "      <th>5</th>\n",
       "      <td>Lenovo Smart Tab M10 Plus, 10.3\" FHD IPS Touch...</td>\n",
       "      <td>199.99</td>\n",
       "      <td>Free Shipping</td>\n",
       "      <td>https://www.newegg.ca/lenovo-za5w0029us-smart-...</td>\n",
       "    </tr>\n",
       "    <tr>\n",
       "      <th>6</th>\n",
       "      <td>Lenovo Tab P11 + pen + keyboard bundle, 11.0\" ...</td>\n",
       "      <td>369.99</td>\n",
       "      <td>Free Shipping</td>\n",
       "      <td>https://www.newegg.ca/p/0EJ-001J-00487</td>\n",
       "    </tr>\n",
       "    <tr>\n",
       "      <th>8</th>\n",
       "      <td>Lenovo Yoga Tab 13, 13.0\" Touch  60Hz  60Hz, 8...</td>\n",
       "      <td>769.99</td>\n",
       "      <td>Free Shipping</td>\n",
       "      <td>https://www.newegg.ca/p/0EJ-001J-003Z0</td>\n",
       "    </tr>\n",
       "    <tr>\n",
       "      <th>9</th>\n",
       "      <td>Lenovo Tab P11, 11.0\" IPS Touch  400 nits, 6GB...</td>\n",
       "      <td>399.99</td>\n",
       "      <td>Free Shipping</td>\n",
       "      <td>https://www.newegg.ca/p/0EJ-001J-003U6</td>\n",
       "    </tr>\n",
       "    <tr>\n",
       "      <th>10</th>\n",
       "      <td>Lenovo Tab P12 Pro, 12.6\" Touch  400 nits, 8GB...</td>\n",
       "      <td>989.99</td>\n",
       "      <td>Free Shipping</td>\n",
       "      <td>https://www.newegg.ca/p/0EJ-001J-00498</td>\n",
       "    </tr>\n",
       "  </tbody>\n",
       "</table>\n",
       "</div>"
      ],
      "text/plain": [
       "                                              Product  Price (CAD)  \\\n",
       "2   Lenovo Tab P11, 11.0\" IPS Touch  400 nits, 4GB...       269.99   \n",
       "3   Lenovo Tab P12 Pro, 12.6\" Touch  400 nits, 6GB...       959.99   \n",
       "4   Lenovo Tab P11, 11.0\" IPS Touch 400 nits, 4GB,...       289.99   \n",
       "5   Lenovo Smart Tab M10 Plus, 10.3\" FHD IPS Touch...       199.99   \n",
       "6   Lenovo Tab P11 + pen + keyboard bundle, 11.0\" ...       369.99   \n",
       "8   Lenovo Yoga Tab 13, 13.0\" Touch  60Hz  60Hz, 8...       769.99   \n",
       "9   Lenovo Tab P11, 11.0\" IPS Touch  400 nits, 6GB...       399.99   \n",
       "10  Lenovo Tab P12 Pro, 12.6\" Touch  400 nits, 8GB...       989.99   \n",
       "\n",
       "   Shipping Costs                                           URL Link  \n",
       "2   Free Shipping             https://www.newegg.ca/p/0EJ-001J-003V6  \n",
       "3   Free Shipping             https://www.newegg.ca/p/0EJ-001J-00486  \n",
       "4   Free Shipping  https://www.newegg.ca/lenovo-za7r0144us-tab-p1...  \n",
       "5   Free Shipping  https://www.newegg.ca/lenovo-za5w0029us-smart-...  \n",
       "6   Free Shipping             https://www.newegg.ca/p/0EJ-001J-00487  \n",
       "8   Free Shipping             https://www.newegg.ca/p/0EJ-001J-003Z0  \n",
       "9   Free Shipping             https://www.newegg.ca/p/0EJ-001J-003U6  \n",
       "10  Free Shipping             https://www.newegg.ca/p/0EJ-001J-00498  "
      ]
     },
     "execution_count": 49,
     "metadata": {},
     "output_type": "execute_result"
    }
   ],
   "source": [
    "## Searching Android tablet products that is from Lenovo\n",
    "newegg_tablets_df[newegg_tablets_df['Product'].str.contains('Lenovo')].head(8)"
   ]
  },
  {
   "cell_type": "code",
   "execution_count": 50,
   "metadata": {},
   "outputs": [
    {
     "data": {
      "text/html": [
       "<div>\n",
       "<style scoped>\n",
       "    .dataframe tbody tr th:only-of-type {\n",
       "        vertical-align: middle;\n",
       "    }\n",
       "\n",
       "    .dataframe tbody tr th {\n",
       "        vertical-align: top;\n",
       "    }\n",
       "\n",
       "    .dataframe thead th {\n",
       "        text-align: right;\n",
       "    }\n",
       "</style>\n",
       "<table border=\"1\" class=\"dataframe\">\n",
       "  <thead>\n",
       "    <tr style=\"text-align: right;\">\n",
       "      <th></th>\n",
       "      <th>Product</th>\n",
       "      <th>Price (CAD)</th>\n",
       "      <th>Shipping Costs</th>\n",
       "      <th>URL Link</th>\n",
       "    </tr>\n",
       "  </thead>\n",
       "  <tbody>\n",
       "    <tr>\n",
       "      <th>31</th>\n",
       "      <td>Original Huawei MediaPad M5 Lite Tablet with 1...</td>\n",
       "      <td>578.0</td>\n",
       "      <td>Free Shipping</td>\n",
       "      <td>https://www.newegg.ca/p/0EJ-00BW-000N7</td>\n",
       "    </tr>\n",
       "    <tr>\n",
       "      <th>33</th>\n",
       "      <td>Huawei MediaPad M5 Lite 64GB + 4GB RAM 10.1\" (...</td>\n",
       "      <td>909.0</td>\n",
       "      <td>Special Shipping</td>\n",
       "      <td>https://www.newegg.ca/p/0EJ-00BW-000T0</td>\n",
       "    </tr>\n",
       "    <tr>\n",
       "      <th>70</th>\n",
       "      <td>Original Huawei MediaPad M5 Lite Tablet with 1...</td>\n",
       "      <td>578.0</td>\n",
       "      <td>Free Shipping</td>\n",
       "      <td>https://www.newegg.ca/p/0EJ-00BW-000N6</td>\n",
       "    </tr>\n",
       "    <tr>\n",
       "      <th>106</th>\n",
       "      <td>Original Huawei MediaPad M5 Lite Tablet with 1...</td>\n",
       "      <td>578.0</td>\n",
       "      <td>Free Shipping</td>\n",
       "      <td>https://www.newegg.ca/p/0EJ-00BW-000N6</td>\n",
       "    </tr>\n",
       "  </tbody>\n",
       "</table>\n",
       "</div>"
      ],
      "text/plain": [
       "                                               Product  Price (CAD)  \\\n",
       "31   Original Huawei MediaPad M5 Lite Tablet with 1...        578.0   \n",
       "33   Huawei MediaPad M5 Lite 64GB + 4GB RAM 10.1\" (...        909.0   \n",
       "70   Original Huawei MediaPad M5 Lite Tablet with 1...        578.0   \n",
       "106  Original Huawei MediaPad M5 Lite Tablet with 1...        578.0   \n",
       "\n",
       "       Shipping Costs                                URL Link  \n",
       "31      Free Shipping  https://www.newegg.ca/p/0EJ-00BW-000N7  \n",
       "33   Special Shipping  https://www.newegg.ca/p/0EJ-00BW-000T0  \n",
       "70      Free Shipping  https://www.newegg.ca/p/0EJ-00BW-000N6  \n",
       "106     Free Shipping  https://www.newegg.ca/p/0EJ-00BW-000N6  "
      ]
     },
     "execution_count": 50,
     "metadata": {},
     "output_type": "execute_result"
    }
   ],
   "source": [
    "## Searching Android tablet products that is from Huawei\n",
    "newegg_tablets_df[newegg_tablets_df['Product'].str.contains('Huawei')]"
   ]
  }
 ],
 "metadata": {
  "kernelspec": {
   "display_name": "Python 3",
   "language": "python",
   "name": "python3"
  },
  "language_info": {
   "codemirror_mode": {
    "name": "ipython",
    "version": 3
   },
   "file_extension": ".py",
   "mimetype": "text/x-python",
   "name": "python",
   "nbconvert_exporter": "python",
   "pygments_lexer": "ipython3",
   "version": "3.8.3"
  }
 },
 "nbformat": 4,
 "nbformat_minor": 4
}
