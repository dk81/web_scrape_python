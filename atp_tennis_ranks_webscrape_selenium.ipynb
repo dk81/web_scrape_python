{
 "cells": [
  {
   "cell_type": "markdown",
   "metadata": {},
   "source": [
    "## ATP Men Tennis Ranks Webscrape With Selenium"
   ]
  },
  {
   "cell_type": "code",
   "execution_count": 1,
   "metadata": {},
   "outputs": [],
   "source": [
    "# Imports\n",
    "# Reference: https://www.youtube.com/watch?v=lTypMlVBFM4\n",
    "\n",
    "from selenium import webdriver\n",
    "import pandas as pd\n",
    "from datetime import date"
   ]
  },
  {
   "cell_type": "code",
   "execution_count": 2,
   "metadata": {},
   "outputs": [],
   "source": [
    "atp_url = \"https://www.atptour.com/en/rankings/singles\""
   ]
  },
  {
   "cell_type": "code",
   "execution_count": 9,
   "metadata": {},
   "outputs": [],
   "source": [
    "driver = webdriver.Chrome(\"C:\\Program Files (x86)\\chromedriver.exe\")\n",
    "driver.get(atp_url)"
   ]
  },
  {
   "cell_type": "code",
   "execution_count": 10,
   "metadata": {},
   "outputs": [],
   "source": [
    "players = driver.find_element_by_css_selector('table.mega-table')"
   ]
  },
  {
   "cell_type": "code",
   "execution_count": 11,
   "metadata": {},
   "outputs": [],
   "source": [
    "# Obtain table rows, remove header too:\n",
    "\n",
    "rows = players.find_elements_by_css_selector('tr')\n",
    "rows = rows[1:]"
   ]
  },
  {
   "cell_type": "code",
   "execution_count": 12,
   "metadata": {},
   "outputs": [
    {
     "data": {
      "text/plain": [
       "'1 Novak Djokovic 34 8,875 13 500 0'"
      ]
     },
     "execution_count": 12,
     "metadata": {},
     "output_type": "execute_result"
    }
   ],
   "source": [
    "# Check first row:\n",
    "\n",
    "rows[0].text.replace('\\n', ' ')"
   ]
  },
  {
   "cell_type": "code",
   "execution_count": 13,
   "metadata": {},
   "outputs": [
    {
     "data": {
      "text/plain": [
       "['1', 'Novak', 'Djokovic', '34', '8,875', '13', '500', '0']"
      ]
     },
     "execution_count": 13,
     "metadata": {},
     "output_type": "execute_result"
    }
   ],
   "source": [
    "rows[0].text.replace('\\n', ' ').split()"
   ]
  },
  {
   "cell_type": "code",
   "execution_count": 14,
   "metadata": {},
   "outputs": [
    {
     "data": {
      "text/plain": [
       "'Novak Djokovic'"
      ]
     },
     "execution_count": 14,
     "metadata": {},
     "output_type": "execute_result"
    }
   ],
   "source": [
    "rows[0].find_element_by_class_name('player-cell').text"
   ]
  },
  {
   "cell_type": "code",
   "execution_count": 15,
   "metadata": {},
   "outputs": [
    {
     "data": {
      "text/plain": [
       "'SRB'"
      ]
     },
     "execution_count": 15,
     "metadata": {},
     "output_type": "execute_result"
    }
   ],
   "source": [
    "# Find country, it is class country-item, img tag and alt\n",
    "\n",
    "rows[0].find_element_by_class_name('country-item').find_element_by_css_selector('img').get_attribute('alt')"
   ]
  },
  {
   "cell_type": "markdown",
   "metadata": {},
   "source": [
    "## Extract Data"
   ]
  },
  {
   "cell_type": "code",
   "execution_count": 16,
   "metadata": {},
   "outputs": [],
   "source": [
    "# Player rank:\n",
    "\n",
    "ranks = [row.find_element_by_class_name('rank-cell').text for row in rows]"
   ]
  },
  {
   "cell_type": "code",
   "execution_count": 17,
   "metadata": {},
   "outputs": [],
   "source": [
    "# Country:\n",
    "countries = [row.find_element_by_class_name('country-item').find_element_by_css_selector('img').get_attribute('alt') \n",
    "             for row in rows]"
   ]
  },
  {
   "cell_type": "code",
   "execution_count": 18,
   "metadata": {},
   "outputs": [],
   "source": [
    "# Player Name:\n",
    "players = [row.find_element_by_class_name('player-cell').text for row in rows]"
   ]
  },
  {
   "cell_type": "code",
   "execution_count": 19,
   "metadata": {},
   "outputs": [],
   "source": [
    "# Age\n",
    "age = [row.find_element_by_class_name('age-cell').text for row in rows]"
   ]
  },
  {
   "cell_type": "code",
   "execution_count": 20,
   "metadata": {},
   "outputs": [],
   "source": [
    "# Points:\n",
    "atp_points = [row.find_element_by_class_name('points-cell').text for row in rows]"
   ]
  },
  {
   "cell_type": "code",
   "execution_count": 21,
   "metadata": {},
   "outputs": [],
   "source": [
    "# Tournaments Played:\n",
    "atp_played = [row.find_element_by_class_name('tourn-cell').text for row in rows]"
   ]
  },
  {
   "cell_type": "code",
   "execution_count": 22,
   "metadata": {},
   "outputs": [],
   "source": [
    "# Points Dropping:\n",
    "pts_drop = [row.find_element_by_class_name('pts-cell').text for row in rows]"
   ]
  },
  {
   "cell_type": "code",
   "execution_count": 23,
   "metadata": {},
   "outputs": [],
   "source": [
    "# Next-Cell:\n",
    "next_best = [row.find_element_by_class_name('next-cell').text for row in rows]"
   ]
  },
  {
   "cell_type": "markdown",
   "metadata": {},
   "source": [
    "## Create Dataframe"
   ]
  },
  {
   "cell_type": "code",
   "execution_count": 24,
   "metadata": {},
   "outputs": [],
   "source": [
    "## Dataframe Creation of Raw Data:\n",
    "atp_tennis_df = pd.DataFrame({'Rank': ranks, \n",
    "                              'Country': countries, \n",
    "                              'Players': players,\n",
    "                              'Age': age,\n",
    "                              'ATP Points': atp_points,\n",
    "                              'Tournaments Played': atp_played,\n",
    "                              'Points Dropping': pts_drop,\n",
    "                              'Next Best': next_best})"
   ]
  },
  {
   "cell_type": "code",
   "execution_count": 25,
   "metadata": {},
   "outputs": [
    {
     "data": {
      "text/html": [
       "<div>\n",
       "<style scoped>\n",
       "    .dataframe tbody tr th:only-of-type {\n",
       "        vertical-align: middle;\n",
       "    }\n",
       "\n",
       "    .dataframe tbody tr th {\n",
       "        vertical-align: top;\n",
       "    }\n",
       "\n",
       "    .dataframe thead th {\n",
       "        text-align: right;\n",
       "    }\n",
       "</style>\n",
       "<table border=\"1\" class=\"dataframe\">\n",
       "  <thead>\n",
       "    <tr style=\"text-align: right;\">\n",
       "      <th></th>\n",
       "      <th>Rank</th>\n",
       "      <th>Country</th>\n",
       "      <th>Players</th>\n",
       "      <th>Age</th>\n",
       "      <th>ATP Points</th>\n",
       "      <th>Tournaments Played</th>\n",
       "      <th>Points Dropping</th>\n",
       "      <th>Next Best</th>\n",
       "    </tr>\n",
       "  </thead>\n",
       "  <tbody>\n",
       "    <tr>\n",
       "      <th>0</th>\n",
       "      <td>1</td>\n",
       "      <td>SRB</td>\n",
       "      <td>Novak Djokovic</td>\n",
       "      <td>34</td>\n",
       "      <td>8,875</td>\n",
       "      <td>13</td>\n",
       "      <td>500</td>\n",
       "      <td>0</td>\n",
       "    </tr>\n",
       "    <tr>\n",
       "      <th>1</th>\n",
       "      <td>2</td>\n",
       "      <td>RUS</td>\n",
       "      <td>Daniil Medvedev</td>\n",
       "      <td>26</td>\n",
       "      <td>8,435</td>\n",
       "      <td>23</td>\n",
       "      <td>0</td>\n",
       "      <td>0</td>\n",
       "    </tr>\n",
       "    <tr>\n",
       "      <th>2</th>\n",
       "      <td>3</td>\n",
       "      <td>GER</td>\n",
       "      <td>Alexander Zverev</td>\n",
       "      <td>24</td>\n",
       "      <td>7,515</td>\n",
       "      <td>24</td>\n",
       "      <td>0</td>\n",
       "      <td>0</td>\n",
       "    </tr>\n",
       "    <tr>\n",
       "      <th>3</th>\n",
       "      <td>4</td>\n",
       "      <td>GRE</td>\n",
       "      <td>Stefanos Tsitsipas</td>\n",
       "      <td>23</td>\n",
       "      <td>6,565</td>\n",
       "      <td>28</td>\n",
       "      <td>300</td>\n",
       "      <td>60</td>\n",
       "    </tr>\n",
       "    <tr>\n",
       "      <th>4</th>\n",
       "      <td>5</td>\n",
       "      <td>ESP</td>\n",
       "      <td>Rafael Nadal</td>\n",
       "      <td>35</td>\n",
       "      <td>6,515</td>\n",
       "      <td>11</td>\n",
       "      <td>500</td>\n",
       "      <td>0</td>\n",
       "    </tr>\n",
       "    <tr>\n",
       "      <th>5</th>\n",
       "      <td>6</td>\n",
       "      <td>ITA</td>\n",
       "      <td>Matteo Berrettini</td>\n",
       "      <td>25</td>\n",
       "      <td>4,928</td>\n",
       "      <td>21</td>\n",
       "      <td>0</td>\n",
       "      <td>0</td>\n",
       "    </tr>\n",
       "    <tr>\n",
       "      <th>6</th>\n",
       "      <td>7</td>\n",
       "      <td>RUS</td>\n",
       "      <td>Andrey Rublev</td>\n",
       "      <td>24</td>\n",
       "      <td>4,590</td>\n",
       "      <td>28</td>\n",
       "      <td>0</td>\n",
       "      <td>0</td>\n",
       "    </tr>\n",
       "    <tr>\n",
       "      <th>7</th>\n",
       "      <td>8</td>\n",
       "      <td>NOR</td>\n",
       "      <td>Casper Ruud</td>\n",
       "      <td>23</td>\n",
       "      <td>3,975</td>\n",
       "      <td>32</td>\n",
       "      <td>150</td>\n",
       "      <td>90</td>\n",
       "    </tr>\n",
       "    <tr>\n",
       "      <th>8</th>\n",
       "      <td>9</td>\n",
       "      <td>CAN</td>\n",
       "      <td>Felix Auger-Aliassime</td>\n",
       "      <td>21</td>\n",
       "      <td>3,883</td>\n",
       "      <td>26</td>\n",
       "      <td>0</td>\n",
       "      <td>0</td>\n",
       "    </tr>\n",
       "    <tr>\n",
       "      <th>9</th>\n",
       "      <td>10</td>\n",
       "      <td>ITA</td>\n",
       "      <td>Jannik Sinner</td>\n",
       "      <td>20</td>\n",
       "      <td>3,429</td>\n",
       "      <td>39</td>\n",
       "      <td>0</td>\n",
       "      <td>0</td>\n",
       "    </tr>\n",
       "    <tr>\n",
       "      <th>10</th>\n",
       "      <td>11</td>\n",
       "      <td>POL</td>\n",
       "      <td>Hubert Hurkacz</td>\n",
       "      <td>25</td>\n",
       "      <td>3,333</td>\n",
       "      <td>29</td>\n",
       "      <td>0</td>\n",
       "      <td>0</td>\n",
       "    </tr>\n",
       "    <tr>\n",
       "      <th>11</th>\n",
       "      <td>12</td>\n",
       "      <td>GBR</td>\n",
       "      <td>Cameron Norrie</td>\n",
       "      <td>26</td>\n",
       "      <td>3,070</td>\n",
       "      <td>29</td>\n",
       "      <td>0</td>\n",
       "      <td>0</td>\n",
       "    </tr>\n",
       "  </tbody>\n",
       "</table>\n",
       "</div>"
      ],
      "text/plain": [
       "   Rank Country                Players Age ATP Points Tournaments Played  \\\n",
       "0     1     SRB         Novak Djokovic  34      8,875                 13   \n",
       "1     2     RUS        Daniil Medvedev  26      8,435                 23   \n",
       "2     3     GER       Alexander Zverev  24      7,515                 24   \n",
       "3     4     GRE     Stefanos Tsitsipas  23      6,565                 28   \n",
       "4     5     ESP           Rafael Nadal  35      6,515                 11   \n",
       "5     6     ITA      Matteo Berrettini  25      4,928                 21   \n",
       "6     7     RUS          Andrey Rublev  24      4,590                 28   \n",
       "7     8     NOR            Casper Ruud  23      3,975                 32   \n",
       "8     9     CAN  Felix Auger-Aliassime  21      3,883                 26   \n",
       "9    10     ITA          Jannik Sinner  20      3,429                 39   \n",
       "10   11     POL         Hubert Hurkacz  25      3,333                 29   \n",
       "11   12     GBR         Cameron Norrie  26      3,070                 29   \n",
       "\n",
       "   Points Dropping Next Best  \n",
       "0              500         0  \n",
       "1                0         0  \n",
       "2                0         0  \n",
       "3              300        60  \n",
       "4              500         0  \n",
       "5                0         0  \n",
       "6                0         0  \n",
       "7              150        90  \n",
       "8                0         0  \n",
       "9                0         0  \n",
       "10               0         0  \n",
       "11               0         0  "
      ]
     },
     "execution_count": 25,
     "metadata": {},
     "output_type": "execute_result"
    }
   ],
   "source": [
    "atp_tennis_df.head(12)"
   ]
  },
  {
   "cell_type": "code",
   "execution_count": 26,
   "metadata": {},
   "outputs": [],
   "source": [
    "## Save to excel file\n",
    "atp_tennis_df.to_excel('atp_tennis_ranks' + str(date.today()) + '.xlsx', index = False)"
   ]
  },
  {
   "cell_type": "code",
   "execution_count": 27,
   "metadata": {},
   "outputs": [],
   "source": [
    "## Save to .csv file\n",
    "atp_tennis_df.to_csv('atp_tennis_ranks' + str(date.today()) + '.csv', index = False)"
   ]
  },
  {
   "cell_type": "code",
   "execution_count": null,
   "metadata": {},
   "outputs": [],
   "source": []
  }
 ],
 "metadata": {
  "kernelspec": {
   "display_name": "Python 3",
   "language": "python",
   "name": "python3"
  },
  "language_info": {
   "codemirror_mode": {
    "name": "ipython",
    "version": 3
   },
   "file_extension": ".py",
   "mimetype": "text/x-python",
   "name": "python",
   "nbconvert_exporter": "python",
   "pygments_lexer": "ipython3",
   "version": "3.8.3"
  }
 },
 "nbformat": 4,
 "nbformat_minor": 4
}
