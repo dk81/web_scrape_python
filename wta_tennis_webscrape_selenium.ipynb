{
 "cells": [
  {
   "cell_type": "code",
   "execution_count": 24,
   "metadata": {},
   "outputs": [],
   "source": [
    "# Imports\n",
    "# Reference: https://www.youtube.com/watch?v=lTypMlVBFM4\n",
    "\n",
    "from selenium import webdriver\n",
    "import pandas as pd\n",
    "from datetime import date\n",
    "import time"
   ]
  },
  {
   "cell_type": "code",
   "execution_count": 25,
   "metadata": {},
   "outputs": [],
   "source": [
    "# WTA Tennis Singles Rankings Page:\n",
    "\n",
    "wta_url = \"https://www.wtatennis.com/rankings/singles\""
   ]
  },
  {
   "cell_type": "code",
   "execution_count": 26,
   "metadata": {},
   "outputs": [],
   "source": [
    "# Chrome Driver:\n",
    "\n",
    "driver = webdriver.Chrome('C:\\Program Files (x86)\\chromedriver.exe')\n",
    "driver.get(wta_url)"
   ]
  },
  {
   "cell_type": "code",
   "execution_count": 27,
   "metadata": {},
   "outputs": [],
   "source": [
    "# Click on Only essential cookies button to resume\n",
    "\n",
    "button = driver.find_element_by_xpath(\"//button[@class='button button--icon-left cookie-notice__button cookie-notice__button--alt js-cookie-notice-btn']\")\n",
    "\n",
    "button.click()"
   ]
  },
  {
   "cell_type": "code",
   "execution_count": 28,
   "metadata": {},
   "outputs": [],
   "source": [
    "# Scroll down a little then click show more:\n",
    "# Reference: https://stackoverflow.com/questions/20986631/how-can-i-scroll-a-web-page-using-selenium-webdriver-in-python\n",
    "\n",
    "for i in range(10):\n",
    "    driver.execute_script(\"window.scrollTo(window.scrollY, window.scrollY + 200)\")\n",
    "    time.sleep(1)"
   ]
  },
  {
   "cell_type": "code",
   "execution_count": 29,
   "metadata": {},
   "outputs": [],
   "source": [
    "# Click on Show more to load more:\n",
    "show_more = driver.find_element_by_xpath(\"//button[@class='btn widget-footer__more-button rankings__show-more js-show-more-button']\")\n",
    "\n",
    "show_more.click()"
   ]
  },
  {
   "cell_type": "code",
   "execution_count": 30,
   "metadata": {},
   "outputs": [],
   "source": [
    "# Scroll more after clicking show more:\n",
    "\n",
    "from selenium.webdriver.common.keys import Keys\n",
    "\n",
    "html = driver.find_element_by_tag_name('html')\n",
    "\n",
    "for i in range(9):\n",
    "    html.send_keys(Keys.PAGE_DOWN)\n",
    "    time.sleep(1)"
   ]
  },
  {
   "cell_type": "markdown",
   "metadata": {},
   "source": [
    "## Webscrape Items"
   ]
  },
  {
   "cell_type": "markdown",
   "metadata": {},
   "source": [
    "Obtain:\n",
    "\n",
    "* Rank\n",
    "* Move Up Or Down\n",
    "* Player Name\n",
    "* Country Ticker\n",
    "* Age\n",
    "* Tournaments Played\n",
    "* WTA Ranking Points"
   ]
  },
  {
   "cell_type": "code",
   "execution_count": 31,
   "metadata": {},
   "outputs": [],
   "source": [
    "# Ranks:\n",
    "\n",
    "ranks = [x.text for x in \n",
    "         driver.find_elements_by_xpath('//*[@id=\"main-content\"]/section/div[3]/table/tbody/tr/td[1]/span[1]')]"
   ]
  },
  {
   "cell_type": "code",
   "execution_count": 32,
   "metadata": {},
   "outputs": [],
   "source": [
    "# Player Name\n",
    "\n",
    "wta_player = [x.text for x in \n",
    "              driver.find_elements_by_xpath('//*[@id=\"main-content\"]/section/div[3]/table/tbody/tr/td[1]/a')]"
   ]
  },
  {
   "cell_type": "code",
   "execution_count": 33,
   "metadata": {},
   "outputs": [],
   "source": [
    "# Country Ticker:\n",
    "country_tickers = [x.text for x in \n",
    "                   driver.find_elements_by_xpath('//*[@id=\"main-content\"]/section/div[3]/table/tbody/tr/td[3]/span')]"
   ]
  },
  {
   "cell_type": "code",
   "execution_count": 34,
   "metadata": {},
   "outputs": [],
   "source": [
    "# Player Age:\n",
    "wta_age = [x.text for x in \n",
    "           driver.find_elements_by_xpath('//*[@id=\"main-content\"]/section/div[3]/table/tbody/tr/td[4]')]"
   ]
  },
  {
   "cell_type": "code",
   "execution_count": 35,
   "metadata": {},
   "outputs": [],
   "source": [
    "# Tournaments Played:\n",
    "tournaments_played = [x.text for x in \n",
    "                      driver.find_elements_by_xpath('//*[@id=\"main-content\"]/section/div[3]/table/tbody/tr/td[5]')]"
   ]
  },
  {
   "cell_type": "code",
   "execution_count": 36,
   "metadata": {},
   "outputs": [],
   "source": [
    "# Points:\n",
    "wta_points = [x.text for x in \n",
    "              driver.find_elements_by_xpath('//*[@id=\"main-content\"]/section/div[3]/table/tbody/tr/td[6]')]"
   ]
  },
  {
   "cell_type": "markdown",
   "metadata": {},
   "source": [
    "### Dealing With Rank Movements (Icons & Text)"
   ]
  },
  {
   "cell_type": "code",
   "execution_count": 37,
   "metadata": {},
   "outputs": [],
   "source": [
    "# Rank Movement, obtain class\"\n",
    "rank_movement_icon = [x.get_attribute('class') for x in \n",
    "                      driver.find_elements_by_xpath('//*[@id=\"main-content\"]/section/div[3]/table/tbody/tr/td[1]/span[2]')]"
   ]
  },
  {
   "cell_type": "code",
   "execution_count": 38,
   "metadata": {},
   "outputs": [],
   "source": [
    "# Change icons into signs, movement up -> +, movement down -> -, movement none change that to empty string:\n",
    "\n",
    "def sign_change(x):\n",
    "    if x == 'rankings__movement rankings__movement--down ':\n",
    "        return \"-\"\n",
    "    elif x == 'rankings__movement rankings__movement--up ':\n",
    "        return \"+\"\n",
    "    else:\n",
    "        return \"\"\n",
    "\n",
    "# Use map to apply sign_change function\n",
    "rank_movement_signs = list(map(sign_change, rank_movement_icon))"
   ]
  },
  {
   "cell_type": "code",
   "execution_count": 39,
   "metadata": {},
   "outputs": [],
   "source": [
    "# Rank Movement Number/Text:\n",
    "rank_movement_text = [x.text for x in \n",
    "                      driver.find_elements_by_xpath('//*[@id=\"main-content\"]/section/div[3]/table/tbody/tr/td[1]/span[2]')]"
   ]
  },
  {
   "cell_type": "code",
   "execution_count": 40,
   "metadata": {},
   "outputs": [],
   "source": [
    "# Combine rank movement signs and text:\n",
    "\n",
    "rank_movement_list = [x + y for x, y in zip (rank_movement_signs, rank_movement_text)]"
   ]
  },
  {
   "cell_type": "code",
   "execution_count": 41,
   "metadata": {},
   "outputs": [],
   "source": [
    "# Change just negative sign to 0 to represent zero change in rank movement:\n",
    "\n",
    "def zero_rank_change(y):\n",
    "    if y == '-':\n",
    "        return 0\n",
    "    else:\n",
    "        return y\n",
    "\n",
    "# Use map to apply zero_rank_change function\n",
    "rank_movements = list(map(zero_rank_change, rank_movement_list))"
   ]
  },
  {
   "cell_type": "code",
   "execution_count": 42,
   "metadata": {},
   "outputs": [],
   "source": [
    "### Create Dataframe:\n",
    "wta_rankings_df = pd.DataFrame({\n",
    "                    'Rank': ranks,\n",
    "                    'Rank Movement': rank_movements,\n",
    "                    'WTA Player': wta_player,\n",
    "                    'Country': country_tickers,\n",
    "                    'Age': wta_age,\n",
    "                    'Tournaments Played': tournaments_played,\n",
    "                    'Points': wta_points\n",
    "})\n",
    "\n",
    "# Just get top 100 WTA players:\n",
    "\n",
    "wta_top100_df = wta_rankings_df.iloc[0:100]"
   ]
  },
  {
   "cell_type": "code",
   "execution_count": 43,
   "metadata": {},
   "outputs": [
    {
     "data": {
      "text/html": [
       "<div>\n",
       "<style scoped>\n",
       "    .dataframe tbody tr th:only-of-type {\n",
       "        vertical-align: middle;\n",
       "    }\n",
       "\n",
       "    .dataframe tbody tr th {\n",
       "        vertical-align: top;\n",
       "    }\n",
       "\n",
       "    .dataframe thead th {\n",
       "        text-align: right;\n",
       "    }\n",
       "</style>\n",
       "<table border=\"1\" class=\"dataframe\">\n",
       "  <thead>\n",
       "    <tr style=\"text-align: right;\">\n",
       "      <th></th>\n",
       "      <th>Rank</th>\n",
       "      <th>Rank Movement</th>\n",
       "      <th>WTA Player</th>\n",
       "      <th>Country</th>\n",
       "      <th>Age</th>\n",
       "      <th>Tournaments Played</th>\n",
       "      <th>Points</th>\n",
       "    </tr>\n",
       "  </thead>\n",
       "  <tbody>\n",
       "    <tr>\n",
       "      <th>0</th>\n",
       "      <td>1</td>\n",
       "      <td>0</td>\n",
       "      <td>Ashleigh Barty</td>\n",
       "      <td>AUS</td>\n",
       "      <td>25</td>\n",
       "      <td>14</td>\n",
       "      <td>8330</td>\n",
       "    </tr>\n",
       "    <tr>\n",
       "      <th>1</th>\n",
       "      <td>2</td>\n",
       "      <td>0</td>\n",
       "      <td>Aryna Sabalenka</td>\n",
       "      <td>BLR</td>\n",
       "      <td>23</td>\n",
       "      <td>18</td>\n",
       "      <td>5563</td>\n",
       "    </tr>\n",
       "    <tr>\n",
       "      <th>2</th>\n",
       "      <td>3</td>\n",
       "      <td>0</td>\n",
       "      <td>Barbora Krejcikova</td>\n",
       "      <td>CZE</td>\n",
       "      <td>26</td>\n",
       "      <td>26</td>\n",
       "      <td>5003</td>\n",
       "    </tr>\n",
       "    <tr>\n",
       "      <th>3</th>\n",
       "      <td>4</td>\n",
       "      <td>+1</td>\n",
       "      <td>Paula Badosa</td>\n",
       "      <td>ESP</td>\n",
       "      <td>24</td>\n",
       "      <td>30</td>\n",
       "      <td>4429</td>\n",
       "    </tr>\n",
       "    <tr>\n",
       "      <th>4</th>\n",
       "      <td>5</td>\n",
       "      <td>-1</td>\n",
       "      <td>Karolina Pliskova</td>\n",
       "      <td>CZE</td>\n",
       "      <td>29</td>\n",
       "      <td>15</td>\n",
       "      <td>4347</td>\n",
       "    </tr>\n",
       "    <tr>\n",
       "      <th>5</th>\n",
       "      <td>6</td>\n",
       "      <td>+2</td>\n",
       "      <td>Maria Sakkari</td>\n",
       "      <td>GRE</td>\n",
       "      <td>26</td>\n",
       "      <td>17</td>\n",
       "      <td>4191</td>\n",
       "    </tr>\n",
       "    <tr>\n",
       "      <th>6</th>\n",
       "      <td>7</td>\n",
       "      <td>-1</td>\n",
       "      <td>Anett Kontaveit</td>\n",
       "      <td>EST</td>\n",
       "      <td>26</td>\n",
       "      <td>20</td>\n",
       "      <td>4137</td>\n",
       "    </tr>\n",
       "    <tr>\n",
       "      <th>7</th>\n",
       "      <td>8</td>\n",
       "      <td>+1</td>\n",
       "      <td>Iga Swiatek</td>\n",
       "      <td>POL</td>\n",
       "      <td>20</td>\n",
       "      <td>15</td>\n",
       "      <td>3936</td>\n",
       "    </tr>\n",
       "    <tr>\n",
       "      <th>8</th>\n",
       "      <td>9</td>\n",
       "      <td>-2</td>\n",
       "      <td>Garbiñe Muguruza</td>\n",
       "      <td>ESP</td>\n",
       "      <td>28</td>\n",
       "      <td>18</td>\n",
       "      <td>3350</td>\n",
       "    </tr>\n",
       "    <tr>\n",
       "      <th>9</th>\n",
       "      <td>10</td>\n",
       "      <td>0</td>\n",
       "      <td>Ons Jabeur</td>\n",
       "      <td>TUN</td>\n",
       "      <td>27</td>\n",
       "      <td>18</td>\n",
       "      <td>3065</td>\n",
       "    </tr>\n",
       "  </tbody>\n",
       "</table>\n",
       "</div>"
      ],
      "text/plain": [
       "  Rank Rank Movement          WTA Player Country Age Tournaments Played Points\n",
       "0    1             0      Ashleigh Barty     AUS  25                 14   8330\n",
       "1    2             0     Aryna Sabalenka     BLR  23                 18   5563\n",
       "2    3             0  Barbora Krejcikova     CZE  26                 26   5003\n",
       "3    4            +1        Paula Badosa     ESP  24                 30   4429\n",
       "4    5            -1   Karolina Pliskova     CZE  29                 15   4347\n",
       "5    6            +2       Maria Sakkari     GRE  26                 17   4191\n",
       "6    7            -1     Anett Kontaveit     EST  26                 20   4137\n",
       "7    8            +1         Iga Swiatek     POL  20                 15   3936\n",
       "8    9            -2    Garbiñe Muguruza     ESP  28                 18   3350\n",
       "9   10             0          Ons Jabeur     TUN  27                 18   3065"
      ]
     },
     "execution_count": 43,
     "metadata": {},
     "output_type": "execute_result"
    }
   ],
   "source": [
    "wta_top100_df.head(10)"
   ]
  },
  {
   "cell_type": "markdown",
   "metadata": {},
   "source": [
    "## Save Raw Data to Excel File, .xlsx File"
   ]
  },
  {
   "cell_type": "code",
   "execution_count": 44,
   "metadata": {},
   "outputs": [
    {
     "data": {
      "text/plain": [
       "'2022-02-27'"
      ]
     },
     "execution_count": 44,
     "metadata": {},
     "output_type": "execute_result"
    }
   ],
   "source": [
    "str(date.today())"
   ]
  },
  {
   "cell_type": "code",
   "execution_count": 45,
   "metadata": {},
   "outputs": [],
   "source": [
    "# Write to excel file:\n",
    "from datetime import date\n",
    "\n",
    "wta_top100_df.to_excel(\"WTA_TennisPlayers_Top100\" + str(date.today()) + \".xlsx\", index = False)"
   ]
  },
  {
   "cell_type": "code",
   "execution_count": 46,
   "metadata": {},
   "outputs": [],
   "source": [
    "## Write as .csv file:\n",
    "wta_top100_df.to_csv(\"WTA_TennisPlayers_Top100\" + str(date.today()) + \".csv\", index = False)"
   ]
  },
  {
   "cell_type": "code",
   "execution_count": null,
   "metadata": {},
   "outputs": [],
   "source": []
  }
 ],
 "metadata": {
  "kernelspec": {
   "display_name": "Python 3",
   "language": "python",
   "name": "python3"
  },
  "language_info": {
   "codemirror_mode": {
    "name": "ipython",
    "version": 3
   },
   "file_extension": ".py",
   "mimetype": "text/x-python",
   "name": "python",
   "nbconvert_exporter": "python",
   "pygments_lexer": "ipython3",
   "version": "3.8.3"
  }
 },
 "nbformat": 4,
 "nbformat_minor": 4
}
